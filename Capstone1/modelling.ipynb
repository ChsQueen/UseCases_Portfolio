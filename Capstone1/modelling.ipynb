{
 "cells": [
  {
   "cell_type": "markdown",
   "metadata": {},
   "source": [
    "### Modelling"
   ]
  },
  {
   "cell_type": "code",
   "execution_count": 51,
   "metadata": {},
   "outputs": [],
   "source": [
    "import numpy as np\n",
    "import pandas as pd"
   ]
  },
  {
   "cell_type": "code",
   "execution_count": 52,
   "metadata": {},
   "outputs": [],
   "source": [
    "df = pd.read_csv(\"label_features.csv\")"
   ]
  },
  {
   "cell_type": "code",
   "execution_count": 53,
   "metadata": {},
   "outputs": [],
   "source": [
    "df['datetime']=pd.to_datetime(df['datetime'])"
   ]
  },
  {
   "cell_type": "code",
   "execution_count": 54,
   "metadata": {},
   "outputs": [],
   "source": [
    "last_train_date = pd.to_datetime('2015-07-31 01:00:00')\n",
    "first_test_date = pd.to_datetime('2015-08-01 01:00:00')"
   ]
  },
  {
   "cell_type": "code",
   "execution_count": 55,
   "metadata": {},
   "outputs": [],
   "source": [
    "y_train = df.loc[df['datetime'] < last_train_date, 'failure']"
   ]
  },
  {
   "cell_type": "code",
   "execution_count": 56,
   "metadata": {},
   "outputs": [
    {
     "data": {
      "text/plain": [
       "0         none\n",
       "1         none\n",
       "2         none\n",
       "3         none\n",
       "4         none\n",
       "          ... \n",
       "290102    none\n",
       "290103    none\n",
       "290104    none\n",
       "290105    none\n",
       "290106    none\n",
       "Name: failure, Length: 167922, dtype: object"
      ]
     },
     "execution_count": 56,
     "metadata": {},
     "output_type": "execute_result"
    }
   ],
   "source": [
    "y_train"
   ]
  },
  {
   "cell_type": "code",
   "execution_count": 174,
   "metadata": {},
   "outputs": [],
   "source": [
    "from sklearn.preprocessing import LabelEncoder\n",
    "encoder= LabelEncoder()\n",
    "encoder.fit(y_train)\n",
    "y_encoded=encoder.transform(y_train)"
   ]
  },
  {
   "cell_type": "code",
   "execution_count": 175,
   "metadata": {},
   "outputs": [
    {
     "name": "stdout",
     "output_type": "stream",
     "text": [
      "{'comp1': 0, 'comp2': 1, 'comp3': 2, 'comp4': 3, 'none': 4}\n"
     ]
    }
   ],
   "source": [
    "le_name_mapping = dict(zip(encoder.classes_, encoder.transform(encoder.classes_)))\n",
    "print(le_name_mapping)"
   ]
  },
  {
   "cell_type": "code",
   "execution_count": 178,
   "metadata": {},
   "outputs": [
    {
     "data": {
      "text/plain": [
       "array(['none', 'none', 'none', ..., 'none', 'none', 'none'], dtype=object)"
      ]
     },
     "execution_count": 178,
     "metadata": {},
     "output_type": "execute_result"
    }
   ],
   "source": [
    "encoder.inverse_transform(y_encoded)"
   ]
  },
  {
   "cell_type": "code",
   "execution_count": 57,
   "metadata": {},
   "outputs": [],
   "source": [
    "X_train = pd.get_dummies(df.loc[df['datetime'] < last_train_date].drop(['datetime','machineID','failure'], 1))"
   ]
  },
  {
   "cell_type": "code",
   "execution_count": 58,
   "metadata": {},
   "outputs": [
    {
     "data": {
      "text/html": [
       "<div>\n",
       "<style scoped>\n",
       "    .dataframe tbody tr th:only-of-type {\n",
       "        vertical-align: middle;\n",
       "    }\n",
       "\n",
       "    .dataframe tbody tr th {\n",
       "        vertical-align: top;\n",
       "    }\n",
       "\n",
       "    .dataframe thead th {\n",
       "        text-align: right;\n",
       "    }\n",
       "</style>\n",
       "<table border=\"1\" class=\"dataframe\">\n",
       "  <thead>\n",
       "    <tr style=\"text-align: right;\">\n",
       "      <th></th>\n",
       "      <th>volt_mean_3h</th>\n",
       "      <th>rotate_mean_3h</th>\n",
       "      <th>pressure_mean_3h</th>\n",
       "      <th>vibration_mean_3h</th>\n",
       "      <th>volt_sd_3h</th>\n",
       "      <th>rotate_sd_3h</th>\n",
       "      <th>pressure_sd_3h</th>\n",
       "      <th>vibration_sd_3h</th>\n",
       "      <th>volt_mean_24h</th>\n",
       "      <th>rotate_mean_24h</th>\n",
       "      <th>...</th>\n",
       "      <th>error5count</th>\n",
       "      <th>comp1</th>\n",
       "      <th>comp2</th>\n",
       "      <th>comp3</th>\n",
       "      <th>comp4</th>\n",
       "      <th>age</th>\n",
       "      <th>model_model1</th>\n",
       "      <th>model_model2</th>\n",
       "      <th>model_model3</th>\n",
       "      <th>model_model4</th>\n",
       "    </tr>\n",
       "  </thead>\n",
       "  <tbody>\n",
       "    <tr>\n",
       "      <td>0</td>\n",
       "      <td>180.133784</td>\n",
       "      <td>440.608320</td>\n",
       "      <td>94.137969</td>\n",
       "      <td>41.551544</td>\n",
       "      <td>21.322735</td>\n",
       "      <td>48.770512</td>\n",
       "      <td>2.135684</td>\n",
       "      <td>10.037208</td>\n",
       "      <td>169.733809</td>\n",
       "      <td>445.179865</td>\n",
       "      <td>...</td>\n",
       "      <td>0.0</td>\n",
       "      <td>20.000</td>\n",
       "      <td>215.000</td>\n",
       "      <td>155.000</td>\n",
       "      <td>170.000</td>\n",
       "      <td>18</td>\n",
       "      <td>0</td>\n",
       "      <td>0</td>\n",
       "      <td>1</td>\n",
       "      <td>0</td>\n",
       "    </tr>\n",
       "    <tr>\n",
       "      <td>1</td>\n",
       "      <td>176.364293</td>\n",
       "      <td>439.349655</td>\n",
       "      <td>101.553209</td>\n",
       "      <td>36.105580</td>\n",
       "      <td>18.952210</td>\n",
       "      <td>51.329636</td>\n",
       "      <td>13.789279</td>\n",
       "      <td>6.737739</td>\n",
       "      <td>170.614862</td>\n",
       "      <td>446.364859</td>\n",
       "      <td>...</td>\n",
       "      <td>0.0</td>\n",
       "      <td>20.125</td>\n",
       "      <td>215.125</td>\n",
       "      <td>155.125</td>\n",
       "      <td>170.125</td>\n",
       "      <td>18</td>\n",
       "      <td>0</td>\n",
       "      <td>0</td>\n",
       "      <td>1</td>\n",
       "      <td>0</td>\n",
       "    </tr>\n",
       "    <tr>\n",
       "      <td>2</td>\n",
       "      <td>160.384568</td>\n",
       "      <td>424.385316</td>\n",
       "      <td>99.598722</td>\n",
       "      <td>36.094637</td>\n",
       "      <td>13.047080</td>\n",
       "      <td>13.702496</td>\n",
       "      <td>9.988609</td>\n",
       "      <td>1.639962</td>\n",
       "      <td>169.893965</td>\n",
       "      <td>447.009407</td>\n",
       "      <td>...</td>\n",
       "      <td>0.0</td>\n",
       "      <td>20.250</td>\n",
       "      <td>215.250</td>\n",
       "      <td>155.250</td>\n",
       "      <td>170.250</td>\n",
       "      <td>18</td>\n",
       "      <td>0</td>\n",
       "      <td>0</td>\n",
       "      <td>1</td>\n",
       "      <td>0</td>\n",
       "    </tr>\n",
       "    <tr>\n",
       "      <td>3</td>\n",
       "      <td>170.472461</td>\n",
       "      <td>442.933997</td>\n",
       "      <td>102.380586</td>\n",
       "      <td>40.483002</td>\n",
       "      <td>16.642354</td>\n",
       "      <td>56.290447</td>\n",
       "      <td>3.305739</td>\n",
       "      <td>8.854145</td>\n",
       "      <td>171.243444</td>\n",
       "      <td>444.233563</td>\n",
       "      <td>...</td>\n",
       "      <td>0.0</td>\n",
       "      <td>20.375</td>\n",
       "      <td>215.375</td>\n",
       "      <td>155.375</td>\n",
       "      <td>170.375</td>\n",
       "      <td>18</td>\n",
       "      <td>0</td>\n",
       "      <td>0</td>\n",
       "      <td>1</td>\n",
       "      <td>0</td>\n",
       "    </tr>\n",
       "    <tr>\n",
       "      <td>4</td>\n",
       "      <td>163.263806</td>\n",
       "      <td>468.937558</td>\n",
       "      <td>102.726648</td>\n",
       "      <td>40.921802</td>\n",
       "      <td>17.424688</td>\n",
       "      <td>38.680380</td>\n",
       "      <td>9.105775</td>\n",
       "      <td>3.060781</td>\n",
       "      <td>170.792486</td>\n",
       "      <td>448.440437</td>\n",
       "      <td>...</td>\n",
       "      <td>0.0</td>\n",
       "      <td>20.500</td>\n",
       "      <td>215.500</td>\n",
       "      <td>155.500</td>\n",
       "      <td>170.500</td>\n",
       "      <td>18</td>\n",
       "      <td>0</td>\n",
       "      <td>0</td>\n",
       "      <td>1</td>\n",
       "      <td>0</td>\n",
       "    </tr>\n",
       "    <tr>\n",
       "      <td>...</td>\n",
       "      <td>...</td>\n",
       "      <td>...</td>\n",
       "      <td>...</td>\n",
       "      <td>...</td>\n",
       "      <td>...</td>\n",
       "      <td>...</td>\n",
       "      <td>...</td>\n",
       "      <td>...</td>\n",
       "      <td>...</td>\n",
       "      <td>...</td>\n",
       "      <td>...</td>\n",
       "      <td>...</td>\n",
       "      <td>...</td>\n",
       "      <td>...</td>\n",
       "      <td>...</td>\n",
       "      <td>...</td>\n",
       "      <td>...</td>\n",
       "      <td>...</td>\n",
       "      <td>...</td>\n",
       "      <td>...</td>\n",
       "      <td>...</td>\n",
       "    </tr>\n",
       "    <tr>\n",
       "      <td>290102</td>\n",
       "      <td>181.789600</td>\n",
       "      <td>443.816655</td>\n",
       "      <td>95.819894</td>\n",
       "      <td>39.563678</td>\n",
       "      <td>4.020958</td>\n",
       "      <td>16.224728</td>\n",
       "      <td>7.755167</td>\n",
       "      <td>2.474557</td>\n",
       "      <td>169.097102</td>\n",
       "      <td>443.777605</td>\n",
       "      <td>...</td>\n",
       "      <td>0.0</td>\n",
       "      <td>3.250</td>\n",
       "      <td>3.250</td>\n",
       "      <td>18.250</td>\n",
       "      <td>63.250</td>\n",
       "      <td>5</td>\n",
       "      <td>0</td>\n",
       "      <td>0</td>\n",
       "      <td>0</td>\n",
       "      <td>1</td>\n",
       "    </tr>\n",
       "    <tr>\n",
       "      <td>290103</td>\n",
       "      <td>173.083263</td>\n",
       "      <td>438.704284</td>\n",
       "      <td>94.424390</td>\n",
       "      <td>39.083103</td>\n",
       "      <td>11.783864</td>\n",
       "      <td>66.494982</td>\n",
       "      <td>9.682734</td>\n",
       "      <td>6.214271</td>\n",
       "      <td>169.631344</td>\n",
       "      <td>440.478164</td>\n",
       "      <td>...</td>\n",
       "      <td>0.0</td>\n",
       "      <td>3.375</td>\n",
       "      <td>3.375</td>\n",
       "      <td>18.375</td>\n",
       "      <td>63.375</td>\n",
       "      <td>5</td>\n",
       "      <td>0</td>\n",
       "      <td>0</td>\n",
       "      <td>0</td>\n",
       "      <td>1</td>\n",
       "    </tr>\n",
       "    <tr>\n",
       "      <td>290104</td>\n",
       "      <td>174.048390</td>\n",
       "      <td>433.016353</td>\n",
       "      <td>99.925802</td>\n",
       "      <td>40.676765</td>\n",
       "      <td>4.574859</td>\n",
       "      <td>25.076437</td>\n",
       "      <td>11.605534</td>\n",
       "      <td>5.577813</td>\n",
       "      <td>171.633464</td>\n",
       "      <td>441.192273</td>\n",
       "      <td>...</td>\n",
       "      <td>0.0</td>\n",
       "      <td>3.500</td>\n",
       "      <td>3.500</td>\n",
       "      <td>18.500</td>\n",
       "      <td>63.500</td>\n",
       "      <td>5</td>\n",
       "      <td>0</td>\n",
       "      <td>0</td>\n",
       "      <td>0</td>\n",
       "      <td>1</td>\n",
       "    </tr>\n",
       "    <tr>\n",
       "      <td>290105</td>\n",
       "      <td>167.883990</td>\n",
       "      <td>435.511531</td>\n",
       "      <td>96.602542</td>\n",
       "      <td>38.877619</td>\n",
       "      <td>10.131349</td>\n",
       "      <td>55.710554</td>\n",
       "      <td>1.266057</td>\n",
       "      <td>7.099589</td>\n",
       "      <td>172.057946</td>\n",
       "      <td>441.976196</td>\n",
       "      <td>...</td>\n",
       "      <td>0.0</td>\n",
       "      <td>3.625</td>\n",
       "      <td>3.625</td>\n",
       "      <td>18.625</td>\n",
       "      <td>63.625</td>\n",
       "      <td>5</td>\n",
       "      <td>0</td>\n",
       "      <td>0</td>\n",
       "      <td>0</td>\n",
       "      <td>1</td>\n",
       "    </tr>\n",
       "    <tr>\n",
       "      <td>290106</td>\n",
       "      <td>176.781659</td>\n",
       "      <td>442.259006</td>\n",
       "      <td>97.540743</td>\n",
       "      <td>37.500466</td>\n",
       "      <td>27.590127</td>\n",
       "      <td>46.843177</td>\n",
       "      <td>14.603949</td>\n",
       "      <td>2.434314</td>\n",
       "      <td>174.085793</td>\n",
       "      <td>440.105220</td>\n",
       "      <td>...</td>\n",
       "      <td>0.0</td>\n",
       "      <td>3.750</td>\n",
       "      <td>3.750</td>\n",
       "      <td>18.750</td>\n",
       "      <td>63.750</td>\n",
       "      <td>5</td>\n",
       "      <td>0</td>\n",
       "      <td>0</td>\n",
       "      <td>0</td>\n",
       "      <td>1</td>\n",
       "    </tr>\n",
       "  </tbody>\n",
       "</table>\n",
       "<p>167922 rows × 30 columns</p>\n",
       "</div>"
      ],
      "text/plain": [
       "        volt_mean_3h  rotate_mean_3h  pressure_mean_3h  vibration_mean_3h  \\\n",
       "0         180.133784      440.608320         94.137969          41.551544   \n",
       "1         176.364293      439.349655        101.553209          36.105580   \n",
       "2         160.384568      424.385316         99.598722          36.094637   \n",
       "3         170.472461      442.933997        102.380586          40.483002   \n",
       "4         163.263806      468.937558        102.726648          40.921802   \n",
       "...              ...             ...               ...                ...   \n",
       "290102    181.789600      443.816655         95.819894          39.563678   \n",
       "290103    173.083263      438.704284         94.424390          39.083103   \n",
       "290104    174.048390      433.016353         99.925802          40.676765   \n",
       "290105    167.883990      435.511531         96.602542          38.877619   \n",
       "290106    176.781659      442.259006         97.540743          37.500466   \n",
       "\n",
       "        volt_sd_3h  rotate_sd_3h  pressure_sd_3h  vibration_sd_3h  \\\n",
       "0        21.322735     48.770512        2.135684        10.037208   \n",
       "1        18.952210     51.329636       13.789279         6.737739   \n",
       "2        13.047080     13.702496        9.988609         1.639962   \n",
       "3        16.642354     56.290447        3.305739         8.854145   \n",
       "4        17.424688     38.680380        9.105775         3.060781   \n",
       "...            ...           ...             ...              ...   \n",
       "290102    4.020958     16.224728        7.755167         2.474557   \n",
       "290103   11.783864     66.494982        9.682734         6.214271   \n",
       "290104    4.574859     25.076437       11.605534         5.577813   \n",
       "290105   10.131349     55.710554        1.266057         7.099589   \n",
       "290106   27.590127     46.843177       14.603949         2.434314   \n",
       "\n",
       "        volt_mean_24h  rotate_mean_24h  ...  error5count   comp1    comp2  \\\n",
       "0          169.733809       445.179865  ...          0.0  20.000  215.000   \n",
       "1          170.614862       446.364859  ...          0.0  20.125  215.125   \n",
       "2          169.893965       447.009407  ...          0.0  20.250  215.250   \n",
       "3          171.243444       444.233563  ...          0.0  20.375  215.375   \n",
       "4          170.792486       448.440437  ...          0.0  20.500  215.500   \n",
       "...               ...              ...  ...          ...     ...      ...   \n",
       "290102     169.097102       443.777605  ...          0.0   3.250    3.250   \n",
       "290103     169.631344       440.478164  ...          0.0   3.375    3.375   \n",
       "290104     171.633464       441.192273  ...          0.0   3.500    3.500   \n",
       "290105     172.057946       441.976196  ...          0.0   3.625    3.625   \n",
       "290106     174.085793       440.105220  ...          0.0   3.750    3.750   \n",
       "\n",
       "          comp3    comp4  age  model_model1  model_model2  model_model3  \\\n",
       "0       155.000  170.000   18             0             0             1   \n",
       "1       155.125  170.125   18             0             0             1   \n",
       "2       155.250  170.250   18             0             0             1   \n",
       "3       155.375  170.375   18             0             0             1   \n",
       "4       155.500  170.500   18             0             0             1   \n",
       "...         ...      ...  ...           ...           ...           ...   \n",
       "290102   18.250   63.250    5             0             0             0   \n",
       "290103   18.375   63.375    5             0             0             0   \n",
       "290104   18.500   63.500    5             0             0             0   \n",
       "290105   18.625   63.625    5             0             0             0   \n",
       "290106   18.750   63.750    5             0             0             0   \n",
       "\n",
       "        model_model4  \n",
       "0                  0  \n",
       "1                  0  \n",
       "2                  0  \n",
       "3                  0  \n",
       "4                  0  \n",
       "...              ...  \n",
       "290102             1  \n",
       "290103             1  \n",
       "290104             1  \n",
       "290105             1  \n",
       "290106             1  \n",
       "\n",
       "[167922 rows x 30 columns]"
      ]
     },
     "execution_count": 58,
     "metadata": {},
     "output_type": "execute_result"
    }
   ],
   "source": [
    "X_train"
   ]
  },
  {
   "cell_type": "code",
   "execution_count": 59,
   "metadata": {},
   "outputs": [],
   "source": [
    "X_test = pd.get_dummies(df.loc[df['datetime'] > first_test_date].drop(['datetime','machineID','failure'], 1))"
   ]
  },
  {
   "cell_type": "code",
   "execution_count": 60,
   "metadata": {},
   "outputs": [
    {
     "data": {
      "text/html": [
       "<div>\n",
       "<style scoped>\n",
       "    .dataframe tbody tr th:only-of-type {\n",
       "        vertical-align: middle;\n",
       "    }\n",
       "\n",
       "    .dataframe tbody tr th {\n",
       "        vertical-align: top;\n",
       "    }\n",
       "\n",
       "    .dataframe thead th {\n",
       "        text-align: right;\n",
       "    }\n",
       "</style>\n",
       "<table border=\"1\" class=\"dataframe\">\n",
       "  <thead>\n",
       "    <tr style=\"text-align: right;\">\n",
       "      <th></th>\n",
       "      <th>volt_mean_3h</th>\n",
       "      <th>rotate_mean_3h</th>\n",
       "      <th>pressure_mean_3h</th>\n",
       "      <th>vibration_mean_3h</th>\n",
       "      <th>volt_sd_3h</th>\n",
       "      <th>rotate_sd_3h</th>\n",
       "      <th>pressure_sd_3h</th>\n",
       "      <th>vibration_sd_3h</th>\n",
       "      <th>volt_mean_24h</th>\n",
       "      <th>rotate_mean_24h</th>\n",
       "      <th>...</th>\n",
       "      <th>error5count</th>\n",
       "      <th>comp1</th>\n",
       "      <th>comp2</th>\n",
       "      <th>comp3</th>\n",
       "      <th>comp4</th>\n",
       "      <th>age</th>\n",
       "      <th>model_model1</th>\n",
       "      <th>model_model2</th>\n",
       "      <th>model_model3</th>\n",
       "      <th>model_model4</th>\n",
       "    </tr>\n",
       "  </thead>\n",
       "  <tbody>\n",
       "    <tr>\n",
       "      <td>1687</td>\n",
       "      <td>157.906797</td>\n",
       "      <td>436.223066</td>\n",
       "      <td>99.668710</td>\n",
       "      <td>41.927731</td>\n",
       "      <td>14.311694</td>\n",
       "      <td>48.891917</td>\n",
       "      <td>8.484343</td>\n",
       "      <td>5.750070</td>\n",
       "      <td>164.944552</td>\n",
       "      <td>441.048553</td>\n",
       "      <td>...</td>\n",
       "      <td>0.0</td>\n",
       "      <td>12.875</td>\n",
       "      <td>27.875</td>\n",
       "      <td>57.875</td>\n",
       "      <td>42.875</td>\n",
       "      <td>18</td>\n",
       "      <td>0</td>\n",
       "      <td>0</td>\n",
       "      <td>1</td>\n",
       "      <td>0</td>\n",
       "    </tr>\n",
       "    <tr>\n",
       "      <td>1688</td>\n",
       "      <td>177.484300</td>\n",
       "      <td>474.384707</td>\n",
       "      <td>95.465206</td>\n",
       "      <td>36.536615</td>\n",
       "      <td>11.467069</td>\n",
       "      <td>52.263950</td>\n",
       "      <td>7.914226</td>\n",
       "      <td>5.928830</td>\n",
       "      <td>164.661214</td>\n",
       "      <td>440.351473</td>\n",
       "      <td>...</td>\n",
       "      <td>0.0</td>\n",
       "      <td>13.000</td>\n",
       "      <td>28.000</td>\n",
       "      <td>58.000</td>\n",
       "      <td>43.000</td>\n",
       "      <td>18</td>\n",
       "      <td>0</td>\n",
       "      <td>0</td>\n",
       "      <td>1</td>\n",
       "      <td>0</td>\n",
       "    </tr>\n",
       "    <tr>\n",
       "      <td>1689</td>\n",
       "      <td>160.722230</td>\n",
       "      <td>454.141020</td>\n",
       "      <td>96.239534</td>\n",
       "      <td>37.227385</td>\n",
       "      <td>11.720061</td>\n",
       "      <td>60.893656</td>\n",
       "      <td>16.558994</td>\n",
       "      <td>0.510792</td>\n",
       "      <td>164.970697</td>\n",
       "      <td>440.269094</td>\n",
       "      <td>...</td>\n",
       "      <td>0.0</td>\n",
       "      <td>13.125</td>\n",
       "      <td>28.125</td>\n",
       "      <td>58.125</td>\n",
       "      <td>43.125</td>\n",
       "      <td>18</td>\n",
       "      <td>0</td>\n",
       "      <td>0</td>\n",
       "      <td>1</td>\n",
       "      <td>0</td>\n",
       "    </tr>\n",
       "    <tr>\n",
       "      <td>1690</td>\n",
       "      <td>164.327403</td>\n",
       "      <td>483.343506</td>\n",
       "      <td>93.766954</td>\n",
       "      <td>37.099411</td>\n",
       "      <td>11.158956</td>\n",
       "      <td>36.377145</td>\n",
       "      <td>5.826244</td>\n",
       "      <td>5.443107</td>\n",
       "      <td>163.763336</td>\n",
       "      <td>451.041246</td>\n",
       "      <td>...</td>\n",
       "      <td>0.0</td>\n",
       "      <td>13.250</td>\n",
       "      <td>28.250</td>\n",
       "      <td>58.250</td>\n",
       "      <td>43.250</td>\n",
       "      <td>18</td>\n",
       "      <td>0</td>\n",
       "      <td>0</td>\n",
       "      <td>1</td>\n",
       "      <td>0</td>\n",
       "    </tr>\n",
       "    <tr>\n",
       "      <td>1691</td>\n",
       "      <td>168.114265</td>\n",
       "      <td>459.958711</td>\n",
       "      <td>100.904301</td>\n",
       "      <td>40.966879</td>\n",
       "      <td>21.079445</td>\n",
       "      <td>70.966810</td>\n",
       "      <td>8.388908</td>\n",
       "      <td>4.248384</td>\n",
       "      <td>166.217269</td>\n",
       "      <td>456.208120</td>\n",
       "      <td>...</td>\n",
       "      <td>0.0</td>\n",
       "      <td>13.375</td>\n",
       "      <td>28.375</td>\n",
       "      <td>58.375</td>\n",
       "      <td>43.375</td>\n",
       "      <td>18</td>\n",
       "      <td>0</td>\n",
       "      <td>0</td>\n",
       "      <td>1</td>\n",
       "      <td>0</td>\n",
       "    </tr>\n",
       "    <tr>\n",
       "      <td>...</td>\n",
       "      <td>...</td>\n",
       "      <td>...</td>\n",
       "      <td>...</td>\n",
       "      <td>...</td>\n",
       "      <td>...</td>\n",
       "      <td>...</td>\n",
       "      <td>...</td>\n",
       "      <td>...</td>\n",
       "      <td>...</td>\n",
       "      <td>...</td>\n",
       "      <td>...</td>\n",
       "      <td>...</td>\n",
       "      <td>...</td>\n",
       "      <td>...</td>\n",
       "      <td>...</td>\n",
       "      <td>...</td>\n",
       "      <td>...</td>\n",
       "      <td>...</td>\n",
       "      <td>...</td>\n",
       "      <td>...</td>\n",
       "      <td>...</td>\n",
       "    </tr>\n",
       "    <tr>\n",
       "      <td>291336</td>\n",
       "      <td>177.758754</td>\n",
       "      <td>458.391629</td>\n",
       "      <td>103.183160</td>\n",
       "      <td>46.846592</td>\n",
       "      <td>13.147011</td>\n",
       "      <td>75.100940</td>\n",
       "      <td>3.111700</td>\n",
       "      <td>3.576693</td>\n",
       "      <td>169.764418</td>\n",
       "      <td>454.478787</td>\n",
       "      <td>...</td>\n",
       "      <td>0.0</td>\n",
       "      <td>82.500</td>\n",
       "      <td>7.500</td>\n",
       "      <td>82.500</td>\n",
       "      <td>52.500</td>\n",
       "      <td>5</td>\n",
       "      <td>0</td>\n",
       "      <td>0</td>\n",
       "      <td>0</td>\n",
       "      <td>1</td>\n",
       "    </tr>\n",
       "    <tr>\n",
       "      <td>291337</td>\n",
       "      <td>166.078945</td>\n",
       "      <td>424.431184</td>\n",
       "      <td>98.344409</td>\n",
       "      <td>30.907459</td>\n",
       "      <td>29.351231</td>\n",
       "      <td>69.348245</td>\n",
       "      <td>16.940674</td>\n",
       "      <td>3.731256</td>\n",
       "      <td>171.547643</td>\n",
       "      <td>452.351565</td>\n",
       "      <td>...</td>\n",
       "      <td>0.0</td>\n",
       "      <td>82.625</td>\n",
       "      <td>7.625</td>\n",
       "      <td>82.625</td>\n",
       "      <td>52.625</td>\n",
       "      <td>5</td>\n",
       "      <td>0</td>\n",
       "      <td>0</td>\n",
       "      <td>0</td>\n",
       "      <td>1</td>\n",
       "    </tr>\n",
       "    <tr>\n",
       "      <td>291338</td>\n",
       "      <td>158.327984</td>\n",
       "      <td>504.056262</td>\n",
       "      <td>108.055441</td>\n",
       "      <td>40.109705</td>\n",
       "      <td>9.605817</td>\n",
       "      <td>78.036116</td>\n",
       "      <td>9.154932</td>\n",
       "      <td>3.379639</td>\n",
       "      <td>168.806645</td>\n",
       "      <td>459.502212</td>\n",
       "      <td>...</td>\n",
       "      <td>0.0</td>\n",
       "      <td>82.750</td>\n",
       "      <td>7.750</td>\n",
       "      <td>82.750</td>\n",
       "      <td>52.750</td>\n",
       "      <td>5</td>\n",
       "      <td>0</td>\n",
       "      <td>0</td>\n",
       "      <td>0</td>\n",
       "      <td>1</td>\n",
       "    </tr>\n",
       "    <tr>\n",
       "      <td>291339</td>\n",
       "      <td>170.306956</td>\n",
       "      <td>438.653616</td>\n",
       "      <td>102.346227</td>\n",
       "      <td>47.481232</td>\n",
       "      <td>8.457322</td>\n",
       "      <td>43.021553</td>\n",
       "      <td>0.785721</td>\n",
       "      <td>3.198928</td>\n",
       "      <td>169.011763</td>\n",
       "      <td>465.923073</td>\n",
       "      <td>...</td>\n",
       "      <td>0.0</td>\n",
       "      <td>82.875</td>\n",
       "      <td>7.875</td>\n",
       "      <td>82.875</td>\n",
       "      <td>52.875</td>\n",
       "      <td>5</td>\n",
       "      <td>0</td>\n",
       "      <td>0</td>\n",
       "      <td>0</td>\n",
       "      <td>1</td>\n",
       "    </tr>\n",
       "    <tr>\n",
       "      <td>291340</td>\n",
       "      <td>182.525427</td>\n",
       "      <td>435.932056</td>\n",
       "      <td>98.798172</td>\n",
       "      <td>42.757630</td>\n",
       "      <td>14.835200</td>\n",
       "      <td>19.208302</td>\n",
       "      <td>5.002788</td>\n",
       "      <td>6.836757</td>\n",
       "      <td>172.838745</td>\n",
       "      <td>461.095362</td>\n",
       "      <td>...</td>\n",
       "      <td>0.0</td>\n",
       "      <td>83.000</td>\n",
       "      <td>8.000</td>\n",
       "      <td>83.000</td>\n",
       "      <td>53.000</td>\n",
       "      <td>5</td>\n",
       "      <td>0</td>\n",
       "      <td>0</td>\n",
       "      <td>0</td>\n",
       "      <td>1</td>\n",
       "    </tr>\n",
       "  </tbody>\n",
       "</table>\n",
       "<p>122619 rows × 30 columns</p>\n",
       "</div>"
      ],
      "text/plain": [
       "        volt_mean_3h  rotate_mean_3h  pressure_mean_3h  vibration_mean_3h  \\\n",
       "1687      157.906797      436.223066         99.668710          41.927731   \n",
       "1688      177.484300      474.384707         95.465206          36.536615   \n",
       "1689      160.722230      454.141020         96.239534          37.227385   \n",
       "1690      164.327403      483.343506         93.766954          37.099411   \n",
       "1691      168.114265      459.958711        100.904301          40.966879   \n",
       "...              ...             ...               ...                ...   \n",
       "291336    177.758754      458.391629        103.183160          46.846592   \n",
       "291337    166.078945      424.431184         98.344409          30.907459   \n",
       "291338    158.327984      504.056262        108.055441          40.109705   \n",
       "291339    170.306956      438.653616        102.346227          47.481232   \n",
       "291340    182.525427      435.932056         98.798172          42.757630   \n",
       "\n",
       "        volt_sd_3h  rotate_sd_3h  pressure_sd_3h  vibration_sd_3h  \\\n",
       "1687     14.311694     48.891917        8.484343         5.750070   \n",
       "1688     11.467069     52.263950        7.914226         5.928830   \n",
       "1689     11.720061     60.893656       16.558994         0.510792   \n",
       "1690     11.158956     36.377145        5.826244         5.443107   \n",
       "1691     21.079445     70.966810        8.388908         4.248384   \n",
       "...            ...           ...             ...              ...   \n",
       "291336   13.147011     75.100940        3.111700         3.576693   \n",
       "291337   29.351231     69.348245       16.940674         3.731256   \n",
       "291338    9.605817     78.036116        9.154932         3.379639   \n",
       "291339    8.457322     43.021553        0.785721         3.198928   \n",
       "291340   14.835200     19.208302        5.002788         6.836757   \n",
       "\n",
       "        volt_mean_24h  rotate_mean_24h  ...  error5count   comp1   comp2  \\\n",
       "1687       164.944552       441.048553  ...          0.0  12.875  27.875   \n",
       "1688       164.661214       440.351473  ...          0.0  13.000  28.000   \n",
       "1689       164.970697       440.269094  ...          0.0  13.125  28.125   \n",
       "1690       163.763336       451.041246  ...          0.0  13.250  28.250   \n",
       "1691       166.217269       456.208120  ...          0.0  13.375  28.375   \n",
       "...               ...              ...  ...          ...     ...     ...   \n",
       "291336     169.764418       454.478787  ...          0.0  82.500   7.500   \n",
       "291337     171.547643       452.351565  ...          0.0  82.625   7.625   \n",
       "291338     168.806645       459.502212  ...          0.0  82.750   7.750   \n",
       "291339     169.011763       465.923073  ...          0.0  82.875   7.875   \n",
       "291340     172.838745       461.095362  ...          0.0  83.000   8.000   \n",
       "\n",
       "         comp3   comp4  age  model_model1  model_model2  model_model3  \\\n",
       "1687    57.875  42.875   18             0             0             1   \n",
       "1688    58.000  43.000   18             0             0             1   \n",
       "1689    58.125  43.125   18             0             0             1   \n",
       "1690    58.250  43.250   18             0             0             1   \n",
       "1691    58.375  43.375   18             0             0             1   \n",
       "...        ...     ...  ...           ...           ...           ...   \n",
       "291336  82.500  52.500    5             0             0             0   \n",
       "291337  82.625  52.625    5             0             0             0   \n",
       "291338  82.750  52.750    5             0             0             0   \n",
       "291339  82.875  52.875    5             0             0             0   \n",
       "291340  83.000  53.000    5             0             0             0   \n",
       "\n",
       "        model_model4  \n",
       "1687               0  \n",
       "1688               0  \n",
       "1689               0  \n",
       "1690               0  \n",
       "1691               0  \n",
       "...              ...  \n",
       "291336             1  \n",
       "291337             1  \n",
       "291338             1  \n",
       "291339             1  \n",
       "291340             1  \n",
       "\n",
       "[122619 rows x 30 columns]"
      ]
     },
     "execution_count": 60,
     "metadata": {},
     "output_type": "execute_result"
    }
   ],
   "source": [
    "X_test"
   ]
  },
  {
   "cell_type": "code",
   "execution_count": 61,
   "metadata": {},
   "outputs": [
    {
     "data": {
      "text/plain": [
       "((122619, 30), (167922, 30), (167922,))"
      ]
     },
     "execution_count": 61,
     "metadata": {},
     "output_type": "execute_result"
    }
   ],
   "source": [
    "X_test.shape,X_train.shape,y_train.shape"
   ]
  },
  {
   "cell_type": "code",
   "execution_count": 62,
   "metadata": {},
   "outputs": [],
   "source": [
    "yf = pd.DataFrame(df.loc[df['datetime'] > first_test_date])"
   ]
  },
  {
   "cell_type": "code",
   "execution_count": 63,
   "metadata": {},
   "outputs": [
    {
     "data": {
      "text/html": [
       "<div>\n",
       "<style scoped>\n",
       "    .dataframe tbody tr th:only-of-type {\n",
       "        vertical-align: middle;\n",
       "    }\n",
       "\n",
       "    .dataframe tbody tr th {\n",
       "        vertical-align: top;\n",
       "    }\n",
       "\n",
       "    .dataframe thead th {\n",
       "        text-align: right;\n",
       "    }\n",
       "</style>\n",
       "<table border=\"1\" class=\"dataframe\">\n",
       "  <thead>\n",
       "    <tr style=\"text-align: right;\">\n",
       "      <th></th>\n",
       "      <th>machineID</th>\n",
       "      <th>datetime</th>\n",
       "      <th>volt_mean_3h</th>\n",
       "      <th>rotate_mean_3h</th>\n",
       "      <th>pressure_mean_3h</th>\n",
       "      <th>vibration_mean_3h</th>\n",
       "      <th>volt_sd_3h</th>\n",
       "      <th>rotate_sd_3h</th>\n",
       "      <th>pressure_sd_3h</th>\n",
       "      <th>vibration_sd_3h</th>\n",
       "      <th>...</th>\n",
       "      <th>error3count</th>\n",
       "      <th>error4count</th>\n",
       "      <th>error5count</th>\n",
       "      <th>comp1</th>\n",
       "      <th>comp2</th>\n",
       "      <th>comp3</th>\n",
       "      <th>comp4</th>\n",
       "      <th>model</th>\n",
       "      <th>age</th>\n",
       "      <th>failure</th>\n",
       "    </tr>\n",
       "  </thead>\n",
       "  <tbody>\n",
       "    <tr>\n",
       "      <td>1687</td>\n",
       "      <td>1</td>\n",
       "      <td>2015-08-01 03:00:00</td>\n",
       "      <td>157.906797</td>\n",
       "      <td>436.223066</td>\n",
       "      <td>99.668710</td>\n",
       "      <td>41.927731</td>\n",
       "      <td>14.311694</td>\n",
       "      <td>48.891917</td>\n",
       "      <td>8.484343</td>\n",
       "      <td>5.750070</td>\n",
       "      <td>...</td>\n",
       "      <td>0.0</td>\n",
       "      <td>0.0</td>\n",
       "      <td>0.0</td>\n",
       "      <td>12.875</td>\n",
       "      <td>27.875</td>\n",
       "      <td>57.875</td>\n",
       "      <td>42.875</td>\n",
       "      <td>model3</td>\n",
       "      <td>18</td>\n",
       "      <td>none</td>\n",
       "    </tr>\n",
       "    <tr>\n",
       "      <td>1688</td>\n",
       "      <td>1</td>\n",
       "      <td>2015-08-01 06:00:00</td>\n",
       "      <td>177.484300</td>\n",
       "      <td>474.384707</td>\n",
       "      <td>95.465206</td>\n",
       "      <td>36.536615</td>\n",
       "      <td>11.467069</td>\n",
       "      <td>52.263950</td>\n",
       "      <td>7.914226</td>\n",
       "      <td>5.928830</td>\n",
       "      <td>...</td>\n",
       "      <td>0.0</td>\n",
       "      <td>0.0</td>\n",
       "      <td>0.0</td>\n",
       "      <td>13.000</td>\n",
       "      <td>28.000</td>\n",
       "      <td>58.000</td>\n",
       "      <td>43.000</td>\n",
       "      <td>model3</td>\n",
       "      <td>18</td>\n",
       "      <td>none</td>\n",
       "    </tr>\n",
       "    <tr>\n",
       "      <td>1689</td>\n",
       "      <td>1</td>\n",
       "      <td>2015-08-01 09:00:00</td>\n",
       "      <td>160.722230</td>\n",
       "      <td>454.141020</td>\n",
       "      <td>96.239534</td>\n",
       "      <td>37.227385</td>\n",
       "      <td>11.720061</td>\n",
       "      <td>60.893656</td>\n",
       "      <td>16.558994</td>\n",
       "      <td>0.510792</td>\n",
       "      <td>...</td>\n",
       "      <td>0.0</td>\n",
       "      <td>0.0</td>\n",
       "      <td>0.0</td>\n",
       "      <td>13.125</td>\n",
       "      <td>28.125</td>\n",
       "      <td>58.125</td>\n",
       "      <td>43.125</td>\n",
       "      <td>model3</td>\n",
       "      <td>18</td>\n",
       "      <td>none</td>\n",
       "    </tr>\n",
       "    <tr>\n",
       "      <td>1690</td>\n",
       "      <td>1</td>\n",
       "      <td>2015-08-01 12:00:00</td>\n",
       "      <td>164.327403</td>\n",
       "      <td>483.343506</td>\n",
       "      <td>93.766954</td>\n",
       "      <td>37.099411</td>\n",
       "      <td>11.158956</td>\n",
       "      <td>36.377145</td>\n",
       "      <td>5.826244</td>\n",
       "      <td>5.443107</td>\n",
       "      <td>...</td>\n",
       "      <td>0.0</td>\n",
       "      <td>0.0</td>\n",
       "      <td>0.0</td>\n",
       "      <td>13.250</td>\n",
       "      <td>28.250</td>\n",
       "      <td>58.250</td>\n",
       "      <td>43.250</td>\n",
       "      <td>model3</td>\n",
       "      <td>18</td>\n",
       "      <td>none</td>\n",
       "    </tr>\n",
       "    <tr>\n",
       "      <td>1691</td>\n",
       "      <td>1</td>\n",
       "      <td>2015-08-01 15:00:00</td>\n",
       "      <td>168.114265</td>\n",
       "      <td>459.958711</td>\n",
       "      <td>100.904301</td>\n",
       "      <td>40.966879</td>\n",
       "      <td>21.079445</td>\n",
       "      <td>70.966810</td>\n",
       "      <td>8.388908</td>\n",
       "      <td>4.248384</td>\n",
       "      <td>...</td>\n",
       "      <td>0.0</td>\n",
       "      <td>0.0</td>\n",
       "      <td>0.0</td>\n",
       "      <td>13.375</td>\n",
       "      <td>28.375</td>\n",
       "      <td>58.375</td>\n",
       "      <td>43.375</td>\n",
       "      <td>model3</td>\n",
       "      <td>18</td>\n",
       "      <td>none</td>\n",
       "    </tr>\n",
       "    <tr>\n",
       "      <td>...</td>\n",
       "      <td>...</td>\n",
       "      <td>...</td>\n",
       "      <td>...</td>\n",
       "      <td>...</td>\n",
       "      <td>...</td>\n",
       "      <td>...</td>\n",
       "      <td>...</td>\n",
       "      <td>...</td>\n",
       "      <td>...</td>\n",
       "      <td>...</td>\n",
       "      <td>...</td>\n",
       "      <td>...</td>\n",
       "      <td>...</td>\n",
       "      <td>...</td>\n",
       "      <td>...</td>\n",
       "      <td>...</td>\n",
       "      <td>...</td>\n",
       "      <td>...</td>\n",
       "      <td>...</td>\n",
       "      <td>...</td>\n",
       "      <td>...</td>\n",
       "    </tr>\n",
       "    <tr>\n",
       "      <td>291336</td>\n",
       "      <td>100</td>\n",
       "      <td>2015-12-31 18:00:00</td>\n",
       "      <td>177.758754</td>\n",
       "      <td>458.391629</td>\n",
       "      <td>103.183160</td>\n",
       "      <td>46.846592</td>\n",
       "      <td>13.147011</td>\n",
       "      <td>75.100940</td>\n",
       "      <td>3.111700</td>\n",
       "      <td>3.576693</td>\n",
       "      <td>...</td>\n",
       "      <td>0.0</td>\n",
       "      <td>0.0</td>\n",
       "      <td>0.0</td>\n",
       "      <td>82.500</td>\n",
       "      <td>7.500</td>\n",
       "      <td>82.500</td>\n",
       "      <td>52.500</td>\n",
       "      <td>model4</td>\n",
       "      <td>5</td>\n",
       "      <td>none</td>\n",
       "    </tr>\n",
       "    <tr>\n",
       "      <td>291337</td>\n",
       "      <td>100</td>\n",
       "      <td>2015-12-31 21:00:00</td>\n",
       "      <td>166.078945</td>\n",
       "      <td>424.431184</td>\n",
       "      <td>98.344409</td>\n",
       "      <td>30.907459</td>\n",
       "      <td>29.351231</td>\n",
       "      <td>69.348245</td>\n",
       "      <td>16.940674</td>\n",
       "      <td>3.731256</td>\n",
       "      <td>...</td>\n",
       "      <td>0.0</td>\n",
       "      <td>0.0</td>\n",
       "      <td>0.0</td>\n",
       "      <td>82.625</td>\n",
       "      <td>7.625</td>\n",
       "      <td>82.625</td>\n",
       "      <td>52.625</td>\n",
       "      <td>model4</td>\n",
       "      <td>5</td>\n",
       "      <td>none</td>\n",
       "    </tr>\n",
       "    <tr>\n",
       "      <td>291338</td>\n",
       "      <td>100</td>\n",
       "      <td>2016-01-01 00:00:00</td>\n",
       "      <td>158.327984</td>\n",
       "      <td>504.056262</td>\n",
       "      <td>108.055441</td>\n",
       "      <td>40.109705</td>\n",
       "      <td>9.605817</td>\n",
       "      <td>78.036116</td>\n",
       "      <td>9.154932</td>\n",
       "      <td>3.379639</td>\n",
       "      <td>...</td>\n",
       "      <td>0.0</td>\n",
       "      <td>0.0</td>\n",
       "      <td>0.0</td>\n",
       "      <td>82.750</td>\n",
       "      <td>7.750</td>\n",
       "      <td>82.750</td>\n",
       "      <td>52.750</td>\n",
       "      <td>model4</td>\n",
       "      <td>5</td>\n",
       "      <td>none</td>\n",
       "    </tr>\n",
       "    <tr>\n",
       "      <td>291339</td>\n",
       "      <td>100</td>\n",
       "      <td>2016-01-01 03:00:00</td>\n",
       "      <td>170.306956</td>\n",
       "      <td>438.653616</td>\n",
       "      <td>102.346227</td>\n",
       "      <td>47.481232</td>\n",
       "      <td>8.457322</td>\n",
       "      <td>43.021553</td>\n",
       "      <td>0.785721</td>\n",
       "      <td>3.198928</td>\n",
       "      <td>...</td>\n",
       "      <td>0.0</td>\n",
       "      <td>0.0</td>\n",
       "      <td>0.0</td>\n",
       "      <td>82.875</td>\n",
       "      <td>7.875</td>\n",
       "      <td>82.875</td>\n",
       "      <td>52.875</td>\n",
       "      <td>model4</td>\n",
       "      <td>5</td>\n",
       "      <td>none</td>\n",
       "    </tr>\n",
       "    <tr>\n",
       "      <td>291340</td>\n",
       "      <td>100</td>\n",
       "      <td>2016-01-01 06:00:00</td>\n",
       "      <td>182.525427</td>\n",
       "      <td>435.932056</td>\n",
       "      <td>98.798172</td>\n",
       "      <td>42.757630</td>\n",
       "      <td>14.835200</td>\n",
       "      <td>19.208302</td>\n",
       "      <td>5.002788</td>\n",
       "      <td>6.836757</td>\n",
       "      <td>...</td>\n",
       "      <td>0.0</td>\n",
       "      <td>0.0</td>\n",
       "      <td>0.0</td>\n",
       "      <td>83.000</td>\n",
       "      <td>8.000</td>\n",
       "      <td>83.000</td>\n",
       "      <td>53.000</td>\n",
       "      <td>model4</td>\n",
       "      <td>5</td>\n",
       "      <td>none</td>\n",
       "    </tr>\n",
       "  </tbody>\n",
       "</table>\n",
       "<p>122619 rows × 30 columns</p>\n",
       "</div>"
      ],
      "text/plain": [
       "        machineID            datetime  volt_mean_3h  rotate_mean_3h  \\\n",
       "1687            1 2015-08-01 03:00:00    157.906797      436.223066   \n",
       "1688            1 2015-08-01 06:00:00    177.484300      474.384707   \n",
       "1689            1 2015-08-01 09:00:00    160.722230      454.141020   \n",
       "1690            1 2015-08-01 12:00:00    164.327403      483.343506   \n",
       "1691            1 2015-08-01 15:00:00    168.114265      459.958711   \n",
       "...           ...                 ...           ...             ...   \n",
       "291336        100 2015-12-31 18:00:00    177.758754      458.391629   \n",
       "291337        100 2015-12-31 21:00:00    166.078945      424.431184   \n",
       "291338        100 2016-01-01 00:00:00    158.327984      504.056262   \n",
       "291339        100 2016-01-01 03:00:00    170.306956      438.653616   \n",
       "291340        100 2016-01-01 06:00:00    182.525427      435.932056   \n",
       "\n",
       "        pressure_mean_3h  vibration_mean_3h  volt_sd_3h  rotate_sd_3h  \\\n",
       "1687           99.668710          41.927731   14.311694     48.891917   \n",
       "1688           95.465206          36.536615   11.467069     52.263950   \n",
       "1689           96.239534          37.227385   11.720061     60.893656   \n",
       "1690           93.766954          37.099411   11.158956     36.377145   \n",
       "1691          100.904301          40.966879   21.079445     70.966810   \n",
       "...                  ...                ...         ...           ...   \n",
       "291336        103.183160          46.846592   13.147011     75.100940   \n",
       "291337         98.344409          30.907459   29.351231     69.348245   \n",
       "291338        108.055441          40.109705    9.605817     78.036116   \n",
       "291339        102.346227          47.481232    8.457322     43.021553   \n",
       "291340         98.798172          42.757630   14.835200     19.208302   \n",
       "\n",
       "        pressure_sd_3h  vibration_sd_3h  ...  error3count  error4count  \\\n",
       "1687          8.484343         5.750070  ...          0.0          0.0   \n",
       "1688          7.914226         5.928830  ...          0.0          0.0   \n",
       "1689         16.558994         0.510792  ...          0.0          0.0   \n",
       "1690          5.826244         5.443107  ...          0.0          0.0   \n",
       "1691          8.388908         4.248384  ...          0.0          0.0   \n",
       "...                ...              ...  ...          ...          ...   \n",
       "291336        3.111700         3.576693  ...          0.0          0.0   \n",
       "291337       16.940674         3.731256  ...          0.0          0.0   \n",
       "291338        9.154932         3.379639  ...          0.0          0.0   \n",
       "291339        0.785721         3.198928  ...          0.0          0.0   \n",
       "291340        5.002788         6.836757  ...          0.0          0.0   \n",
       "\n",
       "        error5count   comp1   comp2   comp3   comp4   model  age  failure  \n",
       "1687            0.0  12.875  27.875  57.875  42.875  model3   18     none  \n",
       "1688            0.0  13.000  28.000  58.000  43.000  model3   18     none  \n",
       "1689            0.0  13.125  28.125  58.125  43.125  model3   18     none  \n",
       "1690            0.0  13.250  28.250  58.250  43.250  model3   18     none  \n",
       "1691            0.0  13.375  28.375  58.375  43.375  model3   18     none  \n",
       "...             ...     ...     ...     ...     ...     ...  ...      ...  \n",
       "291336          0.0  82.500   7.500  82.500  52.500  model4    5     none  \n",
       "291337          0.0  82.625   7.625  82.625  52.625  model4    5     none  \n",
       "291338          0.0  82.750   7.750  82.750  52.750  model4    5     none  \n",
       "291339          0.0  82.875   7.875  82.875  52.875  model4    5     none  \n",
       "291340          0.0  83.000   8.000  83.000  53.000  model4    5     none  \n",
       "\n",
       "[122619 rows x 30 columns]"
      ]
     },
     "execution_count": 63,
     "metadata": {},
     "output_type": "execute_result"
    }
   ],
   "source": [
    "yf"
   ]
  },
  {
   "cell_type": "code",
   "execution_count": 64,
   "metadata": {},
   "outputs": [],
   "source": [
    "y_test = yf['failure'] "
   ]
  },
  {
   "cell_type": "code",
   "execution_count": 65,
   "metadata": {},
   "outputs": [
    {
     "data": {
      "text/plain": [
       "1687      none\n",
       "1688      none\n",
       "1689      none\n",
       "1690      none\n",
       "1691      none\n",
       "          ... \n",
       "291336    none\n",
       "291337    none\n",
       "291338    none\n",
       "291339    none\n",
       "291340    none\n",
       "Name: failure, Length: 122619, dtype: object"
      ]
     },
     "execution_count": 65,
     "metadata": {},
     "output_type": "execute_result"
    }
   ],
   "source": [
    "y_test"
   ]
  },
  {
   "cell_type": "code",
   "execution_count": 182,
   "metadata": {},
   "outputs": [],
   "source": [
    "y_test_encoded = encoder.transform(y_test)"
   ]
  },
  {
   "cell_type": "markdown",
   "metadata": {},
   "source": [
    "<a id='adaboost'></a>"
   ]
  },
  {
   "cell_type": "markdown",
   "metadata": {},
   "source": [
    "## AdaBoost"
   ]
  },
  {
   "cell_type": "code",
   "execution_count": 138,
   "metadata": {},
   "outputs": [
    {
     "data": {
      "text/plain": [
       "AdaBoostClassifier(algorithm='SAMME.R', base_estimator=None, learning_rate=1.0,\n",
       "                   n_estimators=50, random_state=22)"
      ]
     },
     "execution_count": 138,
     "metadata": {},
     "output_type": "execute_result"
    }
   ],
   "source": [
    "from sklearn.ensemble import AdaBoostClassifier\n",
    "adc = AdaBoostClassifier(random_state=22)\n",
    "adc.fit(X_train,y_encoded)"
   ]
  },
  {
   "cell_type": "code",
   "execution_count": 159,
   "metadata": {},
   "outputs": [],
   "source": [
    "y_train_pred=adc.predict(X_train)"
   ]
  },
  {
   "cell_type": "markdown",
   "metadata": {},
   "source": [
    "### Predict"
   ]
  },
  {
   "cell_type": "code",
   "execution_count": 140,
   "metadata": {},
   "outputs": [
    {
     "data": {
      "text/plain": [
       "array([4, 4, 4, ..., 4, 4, 4])"
      ]
     },
     "execution_count": 140,
     "metadata": {},
     "output_type": "execute_result"
    }
   ],
   "source": [
    "y_pred = adc.predict(X_test)\n"
   ]
  },
  {
   "cell_type": "code",
   "execution_count": 179,
   "metadata": {},
   "outputs": [
    {
     "data": {
      "text/plain": [
       "(122619,)"
      ]
     },
     "execution_count": 179,
     "metadata": {},
     "output_type": "execute_result"
    }
   ],
   "source": [
    "y_pred.shape"
   ]
  },
  {
   "cell_type": "markdown",
   "metadata": {},
   "source": [
    "### evaluate on train"
   ]
  },
  {
   "cell_type": "code",
   "execution_count": 180,
   "metadata": {},
   "outputs": [
    {
     "data": {
      "text/plain": [
       "Text(0, 0.5, 'Importance')"
      ]
     },
     "execution_count": 180,
     "metadata": {},
     "output_type": "execute_result"
    },
    {
     "data": {
      "image/png": "[encoded data removed]",
      "text/plain": [
       "<Figure size 720x432 with 1 Axes>"
      ]
     },
     "metadata": {},
     "output_type": "display_data"
    }
   ],
   "source": [
    "\n",
    "%matplotlib inline\n",
    "import matplotlib.pyplot as plt\n",
    "import seaborn as sns\n",
    "import operator\n",
    "\n",
    "sns.set_style(\"darkgrid\")\n",
    "plt.figure(figsize=(10, 6))\n",
    "labels, importances = zip(*sorted(zip(X_train.columns, adc.feature_importances_),\n",
    "                                  reverse=True,\n",
    "                                  key=operator.itemgetter(1)))\n",
    "plt.xticks(range(len(labels)), labels)\n",
    "_, labels = plt.xticks()\n",
    "plt.setp(labels, rotation=90)\n",
    "plt.bar(range(len(importances)), importances)\n",
    "plt.ylabel('Importance')"
   ]
  },
  {
   "cell_type": "markdown",
   "metadata": {},
   "source": [
    "### Inspect Quality on test"
   ]
  },
  {
   "cell_type": "code",
   "execution_count": 183,
   "metadata": {},
   "outputs": [
    {
     "name": "stdout",
     "output_type": "stream",
     "text": [
      "              precision    recall  f1-score   support\n",
      "\n",
      "       comp1       0.88      0.92      0.90        66\n",
      "       comp2       0.95      0.93      0.94       112\n",
      "       comp3       0.93      0.79      0.85        52\n",
      "       comp4       0.94      0.86      0.90        73\n",
      "        none       1.00      1.00      1.00    122316\n",
      "\n",
      "    accuracy                           1.00    122619\n",
      "   macro avg       0.94      0.90      0.92    122619\n",
      "weighted avg       1.00      1.00      1.00    122619\n",
      "\n"
     ]
    }
   ],
   "source": [
    "from sklearn.metrics import classification_report\n",
    "print(classification_report(y_test_encoded, y_pred, target_names=encoder.classes_))"
   ]
  },
  {
   "cell_type": "markdown",
   "metadata": {},
   "source": [
    "### Save model"
   ]
  },
  {
   "cell_type": "code",
   "execution_count": 71,
   "metadata": {},
   "outputs": [
    {
     "name": "stderr",
     "output_type": "stream",
     "text": [
      "/Users/ravissa/opt/anaconda3/lib/python3.7/site-packages/sklearn/externals/joblib/__init__.py:15: FutureWarning: sklearn.externals.joblib is deprecated in 0.21 and will be removed in 0.23. Please import this functionality directly from joblib, which can be installed with: pip install joblib. If this warning is raised when loading pickled models, you may need to re-serialize those models with scikit-learn 0.21+.\n",
      "  warnings.warn(msg, category=FutureWarning)\n"
     ]
    },
    {
     "data": {
      "text/plain": [
       "['adc.pkl']"
      ]
     },
     "execution_count": 71,
     "metadata": {},
     "output_type": "execute_result"
    }
   ],
   "source": [
    "from sklearn.externals import joblib\n",
    "joblib.dump(adc,'adc.pkl')"
   ]
  },
  {
   "cell_type": "code",
   "execution_count": 72,
   "metadata": {},
   "outputs": [],
   "source": [
    "###clf_RF = joblib.load('./data/model/rf.pkl')"
   ]
  },
  {
   "cell_type": "markdown",
   "metadata": {},
   "source": [
    "### compare the Predicted Results to Actual results"
   ]
  },
  {
   "cell_type": "code",
   "execution_count": 214,
   "metadata": {},
   "outputs": [
    {
     "data": {
      "text/plain": [
       "(none     122316\n",
       " comp2       112\n",
       " comp4        73\n",
       " comp1        66\n",
       " comp3        52\n",
       " Name: failure, dtype: int64, 4    122329\n",
       " 1       110\n",
       " 0        69\n",
       " 3        67\n",
       " 2        44\n",
       " Name: predicted_failure, dtype: int64)"
      ]
     },
     "execution_count": 214,
     "metadata": {},
     "output_type": "execute_result"
    }
   ],
   "source": [
    "test_results=[]\n",
    "test_result = pd.DataFrame(df.loc[df['datetime'] > first_test_date])\n",
    "test_result['predicted_failure'] = adc.predict(X_test)\n",
    "test_results.append(test_result)\n",
    "test_result['failure'].value_counts(), test_result['predicted_failure'].value_counts()"
   ]
  },
  {
   "cell_type": "code",
   "execution_count": 215,
   "metadata": {},
   "outputs": [
    {
     "name": "stdout",
     "output_type": "stream",
     "text": [
      "{'comp1': 0, 'comp2': 1, 'comp3': 2, 'comp4': 3, 'none': 4}\n"
     ]
    }
   ],
   "source": [
    "print(le_name_mapping)"
   ]
  },
  {
   "cell_type": "markdown",
   "metadata": {},
   "source": [
    "#### FINE TUNE"
   ]
  },
  {
   "cell_type": "code",
   "execution_count": 187,
   "metadata": {},
   "outputs": [],
   "source": [
    "from sklearn.model_selection import GridSearchCV"
   ]
  },
  {
   "cell_type": "code",
   "execution_count": 188,
   "metadata": {},
   "outputs": [],
   "source": [
    "param_grid = [\n",
    "{'n_estimators': [3, 10, 30], 'max_features': [2, 4, 6, 8]},\n",
    "{'bootstrap': [False], 'n_estimators': [3, 10], 'max_features': [2, 3, 4]},\n",
    "]"
   ]
  },
  {
   "cell_type": "markdown",
   "metadata": {},
   "source": [
    "#### This param_grid tells Scikit-Learn to first evaluate all 3 × 4 = 12 combinations of n_estimators and max_features hyperparameter values specified in the first dict then try all 2 × 3 = 6 combinations of hyperparameter values in the second dict, but this time with the bootstrap hyperparameter set to False instead of True (which is the default value for this hyperparameter)."
   ]
  },
  {
   "cell_type": "markdown",
   "metadata": {},
   "source": [
    "###### All in all, the grid search will explore 12 + 6 = 18 combinations of RandomForestClassifier hyperparameter values, and it will train each model five times (since we areusing five-fold cross validation). In other words, all in all, there will be 18 × 5 = 90 rounds of training."
   ]
  },
  {
   "cell_type": "code",
   "execution_count": 189,
   "metadata": {},
   "outputs": [],
   "source": [
    "from sklearn.ensemble import RandomForestClassifier\n",
    "rfc = RandomForestClassifier(random_state=20)\n",
    "\n"
   ]
  },
  {
   "cell_type": "code",
   "execution_count": 190,
   "metadata": {},
   "outputs": [],
   "source": [
    "grid_search = GridSearchCV(rfc, param_grid, cv=5)"
   ]
  },
  {
   "cell_type": "code",
   "execution_count": 191,
   "metadata": {},
   "outputs": [
    {
     "data": {
      "text/plain": [
       "GridSearchCV(cv=5, error_score=nan,\n",
       "             estimator=RandomForestClassifier(bootstrap=True, ccp_alpha=0.0,\n",
       "                                              class_weight=None,\n",
       "                                              criterion='gini', max_depth=None,\n",
       "                                              max_features='auto',\n",
       "                                              max_leaf_nodes=None,\n",
       "                                              max_samples=None,\n",
       "                                              min_impurity_decrease=0.0,\n",
       "                                              min_impurity_split=None,\n",
       "                                              min_samples_leaf=1,\n",
       "                                              min_samples_split=2,\n",
       "                                              min_weight_fraction_leaf=0.0,\n",
       "                                              n_estimators=100, n_jobs=None,\n",
       "                                              oob_score=False, random_state=20,\n",
       "                                              verbose=0, warm_start=False),\n",
       "             iid='deprecated', n_jobs=None,\n",
       "             param_grid=[{'max_features': [2, 4, 6, 8],\n",
       "                          'n_estimators': [3, 10, 30]},\n",
       "                         {'bootstrap': [False], 'max_features': [2, 3, 4],\n",
       "                          'n_estimators': [3, 10]}],\n",
       "             pre_dispatch='2*n_jobs', refit=True, return_train_score=False,\n",
       "             scoring=None, verbose=0)"
      ]
     },
     "execution_count": 191,
     "metadata": {},
     "output_type": "execute_result"
    }
   ],
   "source": [
    "grid_search.fit(X_train,y_encoded)"
   ]
  },
  {
   "cell_type": "code",
   "execution_count": 192,
   "metadata": {},
   "outputs": [
    {
     "data": {
      "text/plain": [
       "{'max_features': 6, 'n_estimators': 30}"
      ]
     },
     "execution_count": 192,
     "metadata": {},
     "output_type": "execute_result"
    }
   ],
   "source": [
    "grid_search.best_params_"
   ]
  },
  {
   "cell_type": "code",
   "execution_count": 193,
   "metadata": {},
   "outputs": [
    {
     "data": {
      "text/plain": [
       "RandomForestClassifier(bootstrap=True, ccp_alpha=0.0, class_weight=None,\n",
       "                       criterion='gini', max_depth=None, max_features=6,\n",
       "                       max_leaf_nodes=None, max_samples=None,\n",
       "                       min_impurity_decrease=0.0, min_impurity_split=None,\n",
       "                       min_samples_leaf=1, min_samples_split=2,\n",
       "                       min_weight_fraction_leaf=0.0, n_estimators=30,\n",
       "                       n_jobs=None, oob_score=False, random_state=20, verbose=0,\n",
       "                       warm_start=False)"
      ]
     },
     "execution_count": 193,
     "metadata": {},
     "output_type": "execute_result"
    }
   ],
   "source": [
    "grid_search.best_estimator_"
   ]
  },
  {
   "cell_type": "code",
   "execution_count": 194,
   "metadata": {},
   "outputs": [
    {
     "data": {
      "text/plain": [
       "{'mean_fit_time': array([0.39064984, 1.18330531, 3.37037616, 0.54585223, 1.69334059,\n",
       "        5.00230913, 0.67230849, 2.12616448, 6.15315571, 0.82158637,\n",
       "        2.54809003, 7.25805898, 0.55670328, 1.67733569, 0.67591109,\n",
       "        1.8861414 , 0.75833664, 2.48663692]),\n",
       " 'std_fit_time': array([0.04232951, 0.07338958, 0.16434369, 0.04036037, 0.15746373,\n",
       "        0.14524043, 0.06530316, 0.0940341 , 0.16824593, 0.11627151,\n",
       "        0.27502357, 0.33251411, 0.02705512, 0.16631906, 0.06619642,\n",
       "        0.06824554, 0.10354115, 0.18002564]),\n",
       " 'mean_score_time': array([0.01723118, 0.02857656, 0.06239047, 0.0153378 , 0.02576356,\n",
       "        0.05978408, 0.01563435, 0.02512465, 0.05304875, 0.0158958 ,\n",
       "        0.02384529, 0.04982772, 0.01656823, 0.03009806, 0.01573172,\n",
       "        0.02634339, 0.01563873, 0.02528911]),\n",
       " 'std_score_time': array([0.00125307, 0.00189214, 0.00248948, 0.00084926, 0.00080885,\n",
       "        0.00560553, 0.00155102, 0.00078511, 0.00157516, 0.0018924 ,\n",
       "        0.00051097, 0.00057673, 0.00124059, 0.0027246 , 0.00035949,\n",
       "        0.00048377, 0.00030318, 0.00054897]),\n",
       " 'param_max_features': masked_array(data=[2, 2, 2, 4, 4, 4, 6, 6, 6, 8, 8, 8, 2, 2, 3, 3, 4, 4],\n",
       "              mask=[False, False, False, False, False, False, False, False,\n",
       "                    False, False, False, False, False, False, False, False,\n",
       "                    False, False],\n",
       "        fill_value='?',\n",
       "             dtype=object),\n",
       " 'param_n_estimators': masked_array(data=[3, 10, 30, 3, 10, 30, 3, 10, 30, 3, 10, 30, 3, 10, 3,\n",
       "                    10, 3, 10],\n",
       "              mask=[False, False, False, False, False, False, False, False,\n",
       "                    False, False, False, False, False, False, False, False,\n",
       "                    False, False],\n",
       "        fill_value='?',\n",
       "             dtype=object),\n",
       " 'param_bootstrap': masked_array(data=[--, --, --, --, --, --, --, --, --, --, --, --, False,\n",
       "                    False, False, False, False, False],\n",
       "              mask=[ True,  True,  True,  True,  True,  True,  True,  True,\n",
       "                     True,  True,  True,  True, False, False, False, False,\n",
       "                    False, False],\n",
       "        fill_value='?',\n",
       "             dtype=object),\n",
       " 'params': [{'max_features': 2, 'n_estimators': 3},\n",
       "  {'max_features': 2, 'n_estimators': 10},\n",
       "  {'max_features': 2, 'n_estimators': 30},\n",
       "  {'max_features': 4, 'n_estimators': 3},\n",
       "  {'max_features': 4, 'n_estimators': 10},\n",
       "  {'max_features': 4, 'n_estimators': 30},\n",
       "  {'max_features': 6, 'n_estimators': 3},\n",
       "  {'max_features': 6, 'n_estimators': 10},\n",
       "  {'max_features': 6, 'n_estimators': 30},\n",
       "  {'max_features': 8, 'n_estimators': 3},\n",
       "  {'max_features': 8, 'n_estimators': 10},\n",
       "  {'max_features': 8, 'n_estimators': 30},\n",
       "  {'bootstrap': False, 'max_features': 2, 'n_estimators': 3},\n",
       "  {'bootstrap': False, 'max_features': 2, 'n_estimators': 10},\n",
       "  {'bootstrap': False, 'max_features': 3, 'n_estimators': 3},\n",
       "  {'bootstrap': False, 'max_features': 3, 'n_estimators': 10},\n",
       "  {'bootstrap': False, 'max_features': 4, 'n_estimators': 3},\n",
       "  {'bootstrap': False, 'max_features': 4, 'n_estimators': 10}],\n",
       " 'split0_test_score': array([0.99821349, 0.99907697, 0.9992854 , 0.99949382, 0.99967247,\n",
       "        0.99967247, 0.9994045 , 0.99967247, 0.99970225, 0.99946405,\n",
       "        0.99970225, 0.99973202, 0.99880899, 0.9995236 , 0.99931517,\n",
       "        0.99961292, 0.9996427 , 0.99973202]),\n",
       " 'split1_test_score': array([0.99883877, 0.99907697, 0.99922584, 0.99955337, 0.99970225,\n",
       "        0.9997618 , 0.99958315, 0.9997618 , 0.9997618 , 0.99967247,\n",
       "        0.9997618 , 0.9997618 , 0.99892809, 0.99934495, 0.99925562,\n",
       "        0.9997618 , 0.99967247, 0.9997618 ]),\n",
       " 'split2_test_score': array([0.99931515, 0.99949381, 0.99964269, 0.99967246, 0.99991067,\n",
       "        0.99991067, 0.99976179, 0.99991067, 0.99991067, 0.99967246,\n",
       "        0.99985112, 0.99991067, 0.99877918, 0.99961291, 0.99949381,\n",
       "        0.99985112, 0.99970224, 0.9998809 ]),\n",
       " 'split3_test_score': array([0.99871963, 0.99946403, 0.99922582, 0.9993747 , 0.99985112,\n",
       "        0.9998809 , 0.99979157, 0.9998809 , 0.99991067, 0.99967246,\n",
       "        0.9998809 , 0.9998809 , 0.99901739, 0.99943425, 0.99949381,\n",
       "        0.99970224, 0.99967246, 0.99982134]),\n",
       " 'split4_test_score': array([0.99868985, 0.99940448, 0.99940448, 0.99931515, 0.99970224,\n",
       "        0.99982134, 0.99973202, 0.99979157, 0.99985112, 0.99949381,\n",
       "        0.99976179, 0.99985112, 0.99919605, 0.99955336, 0.99952358,\n",
       "        0.99979157, 0.99901739, 0.99982134]),\n",
       " 'mean_test_score': array([0.99875538, 0.99930325, 0.99935685, 0.9994819 , 0.99976775,\n",
       "        0.99980944, 0.9996546 , 0.99980348, 0.9998273 , 0.99959505,\n",
       "        0.99979157, 0.9998273 , 0.99894594, 0.99949381, 0.9994164 ,\n",
       "        0.99974393, 0.99954145, 0.99980348]),\n",
       " 'std_test_score': array([3.51998521e-04, 1.86984295e-04, 1.57103629e-04, 1.27170408e-04,\n",
       "        9.49073555e-05, 8.54695240e-05, 1.44153151e-04, 8.54697587e-05,\n",
       "        8.29427777e-05, 9.52806647e-05, 6.52330557e-05, 6.89330643e-05,\n",
       "        1.51353775e-04, 9.41549742e-05, 1.09150615e-04, 8.12149220e-05,\n",
       "        2.62707188e-04, 5.19130405e-05]),\n",
       " 'rank_test_score': array([18, 16, 15, 13,  7,  3,  9,  4,  1, 10,  6,  2, 17, 12, 14,  8, 11,\n",
       "         5], dtype=int32)}"
      ]
     },
     "execution_count": 194,
     "metadata": {},
     "output_type": "execute_result"
    }
   ],
   "source": [
    "grid_search.cv_results_"
   ]
  },
  {
   "cell_type": "code",
   "execution_count": 195,
   "metadata": {},
   "outputs": [
    {
     "data": {
      "text/plain": [
       "array([0.0277548 , 0.01912113, 0.02423423, 0.02225414, 0.0057519 ,\n",
       "       0.00539107, 0.00477575, 0.00555263, 0.06146593, 0.0486075 ,\n",
       "       0.02650437, 0.03383069, 0.00614625, 0.00593231, 0.00530596,\n",
       "       0.00673674, 0.02775477, 0.02889649, 0.03761334, 0.02536053,\n",
       "       0.03826302, 0.12776822, 0.17082636, 0.08653807, 0.13346877,\n",
       "       0.008316  , 0.00248417, 0.0005693 , 0.00169471, 0.00108085])"
      ]
     },
     "execution_count": 195,
     "metadata": {},
     "output_type": "execute_result"
    }
   ],
   "source": [
    "grid_search.best_estimator_.feature_importances_"
   ]
  },
  {
   "cell_type": "code",
   "execution_count": 196,
   "metadata": {},
   "outputs": [
    {
     "data": {
      "text/plain": [
       "Text(0, 0.5, 'Importance')"
      ]
     },
     "execution_count": 196,
     "metadata": {},
     "output_type": "execute_result"
    },
    {
     "data": {
      "image/png": "[encoded data removed]",
      "text/plain": [
       "<Figure size 720x432 with 1 Axes>"
      ]
     },
     "metadata": {},
     "output_type": "display_data"
    }
   ],
   "source": [
    "import matplotlib.pyplot as plt\n",
    "import seaborn as sns\n",
    "import operator\n",
    "\n",
    "sns.set_style(\"darkgrid\")\n",
    "plt.figure(figsize=(10, 6))\n",
    "labels, importances = zip(*sorted(zip(X_train.columns, grid_search.best_estimator_.feature_importances_),\n",
    "                                  reverse=True,\n",
    "                                  key=operator.itemgetter(1)))\n",
    "plt.xticks(range(len(labels)), labels)\n",
    "_, labels = plt.xticks()\n",
    "plt.setp(labels, rotation=90)\n",
    "plt.bar(range(len(importances)), importances)\n",
    "plt.ylabel('Importance')"
   ]
  },
  {
   "cell_type": "markdown",
   "metadata": {},
   "source": [
    "<a id='gbclassifier'></a>"
   ]
  },
  {
   "cell_type": "markdown",
   "metadata": {},
   "source": [
    "### GradientBoostingClassifier"
   ]
  },
  {
   "cell_type": "code",
   "execution_count": 203,
   "metadata": {},
   "outputs": [
    {
     "data": {
      "text/plain": [
       "GradientBoostingClassifier(ccp_alpha=0.0, criterion='friedman_mse', init=None,\n",
       "                           learning_rate=0.1, loss='deviance', max_depth=3,\n",
       "                           max_features=None, max_leaf_nodes=None,\n",
       "                           min_impurity_decrease=0.0, min_impurity_split=None,\n",
       "                           min_samples_leaf=1, min_samples_split=2,\n",
       "                           min_weight_fraction_leaf=0.0, n_estimators=100,\n",
       "                           n_iter_no_change=None, presort='deprecated',\n",
       "                           random_state=42, subsample=1.0, tol=0.0001,\n",
       "                           validation_fraction=0.1, verbose=0,\n",
       "                           warm_start=False)"
      ]
     },
     "execution_count": 203,
     "metadata": {},
     "output_type": "execute_result"
    }
   ],
   "source": [
    "from sklearn.ensemble import GradientBoostingClassifier\n",
    "gbc = GradientBoostingClassifier(random_state=42)\n",
    "gbc.fit(X_train,y_encoded)"
   ]
  },
  {
   "cell_type": "code",
   "execution_count": 204,
   "metadata": {},
   "outputs": [],
   "source": [
    "y_train_pred=gbc.predict(X_train)\n"
   ]
  },
  {
   "cell_type": "code",
   "execution_count": 205,
   "metadata": {},
   "outputs": [],
   "source": [
    "y_pred = gbc.predict(X_test)"
   ]
  },
  {
   "cell_type": "code",
   "execution_count": 206,
   "metadata": {},
   "outputs": [
    {
     "data": {
      "text/plain": [
       "Text(0, 0.5, 'Importance')"
      ]
     },
     "execution_count": 206,
     "metadata": {},
     "output_type": "execute_result"
    },
    {
     "data": {
      "image/png": "[encoded data removed]",
      "text/plain": [
       "<Figure size 720x432 with 1 Axes>"
      ]
     },
     "metadata": {},
     "output_type": "display_data"
    }
   ],
   "source": [
    "%matplotlib inline\n",
    "import matplotlib.pyplot as plt\n",
    "import seaborn as sns\n",
    "import operator\n",
    "\n",
    "sns.set_style(\"darkgrid\")\n",
    "plt.figure(figsize=(10, 6))\n",
    "labels, importances = zip(*sorted(zip(X_train.columns, gbc.feature_importances_),\n",
    "                                  reverse=True,\n",
    "                                  key=operator.itemgetter(1)))\n",
    "plt.xticks(range(len(labels)), labels)\n",
    "_, labels = plt.xticks()\n",
    "plt.setp(labels, rotation=90)\n",
    "plt.bar(range(len(importances)), importances)\n",
    "plt.ylabel('Importance')"
   ]
  },
  {
   "cell_type": "code",
   "execution_count": 207,
   "metadata": {},
   "outputs": [
    {
     "name": "stdout",
     "output_type": "stream",
     "text": [
      "              precision    recall  f1-score   support\n",
      "\n",
      "       comp1       0.33      0.80      0.47        66\n",
      "       comp2       0.85      0.30      0.45       112\n",
      "       comp3       0.19      0.94      0.32        52\n",
      "       comp4       0.33      0.01      0.03        73\n",
      "        none       1.00      1.00      1.00    122316\n",
      "\n",
      "    accuracy                           1.00    122619\n",
      "   macro avg       0.54      0.61      0.45    122619\n",
      "weighted avg       1.00      1.00      1.00    122619\n",
      "\n"
     ]
    }
   ],
   "source": [
    "from sklearn.metrics import classification_report\n",
    "print(classification_report(y_test_encoded, y_pred, target_names=encoder.classes_))"
   ]
  },
  {
   "cell_type": "markdown",
   "metadata": {},
   "source": [
    "<a id='rfclassifier'></a>"
   ]
  },
  {
   "cell_type": "markdown",
   "metadata": {},
   "source": [
    "### RandomForestClassifier"
   ]
  },
  {
   "cell_type": "code",
   "execution_count": 217,
   "metadata": {},
   "outputs": [
    {
     "data": {
      "text/plain": [
       "RandomForestClassifier(bootstrap=True, ccp_alpha=0.0, class_weight=None,\n",
       "                       criterion='gini', max_depth=None, max_features='auto',\n",
       "                       max_leaf_nodes=None, max_samples=None,\n",
       "                       min_impurity_decrease=0.0, min_impurity_split=None,\n",
       "                       min_samples_leaf=1, min_samples_split=2,\n",
       "                       min_weight_fraction_leaf=0.0, n_estimators=100,\n",
       "                       n_jobs=None, oob_score=False, random_state=32, verbose=0,\n",
       "                       warm_start=False)"
      ]
     },
     "execution_count": 217,
     "metadata": {},
     "output_type": "execute_result"
    }
   ],
   "source": [
    "from sklearn.ensemble import RandomForestClassifier\n",
    "rnd = RandomForestClassifier(random_state=32)\n",
    "rnd.fit(X_train,y_encoded)"
   ]
  },
  {
   "cell_type": "markdown",
   "metadata": {},
   "source": [
    "<a id='bgclassifier'></a>"
   ]
  },
  {
   "cell_type": "code",
   "execution_count": 218,
   "metadata": {},
   "outputs": [],
   "source": [
    "y_train_pred=rnd.predict(X_train)"
   ]
  },
  {
   "cell_type": "code",
   "execution_count": 219,
   "metadata": {},
   "outputs": [],
   "source": [
    "y_pred = rnd.predict(X_test)"
   ]
  },
  {
   "cell_type": "code",
   "execution_count": 220,
   "metadata": {},
   "outputs": [
    {
     "data": {
      "text/plain": [
       "Text(0, 0.5, 'Importance')"
      ]
     },
     "execution_count": 220,
     "metadata": {},
     "output_type": "execute_result"
    },
    {
     "data": {
      "image/png": "[encoded data removed]",
      "text/plain": [
       "<Figure size 720x432 with 1 Axes>"
      ]
     },
     "metadata": {},
     "output_type": "display_data"
    }
   ],
   "source": [
    "%matplotlib inline\n",
    "import matplotlib.pyplot as plt\n",
    "import seaborn as sns\n",
    "import operator\n",
    "\n",
    "sns.set_style(\"darkgrid\")\n",
    "plt.figure(figsize=(10, 6))\n",
    "labels, importances = zip(*sorted(zip(X_train.columns, rnd.feature_importances_),\n",
    "                                  reverse=True,\n",
    "                                  key=operator.itemgetter(1)))\n",
    "plt.xticks(range(len(labels)), labels)\n",
    "_, labels = plt.xticks()\n",
    "plt.setp(labels, rotation=90)\n",
    "plt.bar(range(len(importances)), importances)\n",
    "plt.ylabel('Importance')"
   ]
  },
  {
   "cell_type": "code",
   "execution_count": 221,
   "metadata": {},
   "outputs": [
    {
     "name": "stdout",
     "output_type": "stream",
     "text": [
      "              precision    recall  f1-score   support\n",
      "\n",
      "       comp1       0.94      0.92      0.93        66\n",
      "       comp2       0.92      0.98      0.95       112\n",
      "       comp3       1.00      0.87      0.93        52\n",
      "       comp4       0.93      0.92      0.92        73\n",
      "        none       1.00      1.00      1.00    122316\n",
      "\n",
      "    accuracy                           1.00    122619\n",
      "   macro avg       0.96      0.94      0.95    122619\n",
      "weighted avg       1.00      1.00      1.00    122619\n",
      "\n"
     ]
    }
   ],
   "source": [
    "from sklearn.metrics import classification_report\n",
    "print(classification_report(y_test_encoded, y_pred, target_names=encoder.classes_))"
   ]
  },
  {
   "cell_type": "code",
   "execution_count": null,
   "metadata": {},
   "outputs": [],
   "source": []
  },
  {
   "cell_type": "markdown",
   "metadata": {},
   "source": [
    "### Bagging Classifier"
   ]
  },
  {
   "cell_type": "code",
   "execution_count": 222,
   "metadata": {},
   "outputs": [],
   "source": [
    "from sklearn.ensemble import BaggingClassifier\n",
    "from sklearn.tree import DecisionTreeClassifier\n",
    "bag_clf = BaggingClassifier(\n",
    "        DecisionTreeClassifier(), n_estimators=500,\n",
    "        max_samples=100,bootstrap=True,n_jobs=-1\n",
    "    )"
   ]
  },
  {
   "cell_type": "code",
   "execution_count": 223,
   "metadata": {},
   "outputs": [
    {
     "data": {
      "text/plain": [
       "BaggingClassifier(base_estimator=DecisionTreeClassifier(ccp_alpha=0.0,\n",
       "                                                        class_weight=None,\n",
       "                                                        criterion='gini',\n",
       "                                                        max_depth=None,\n",
       "                                                        max_features=None,\n",
       "                                                        max_leaf_nodes=None,\n",
       "                                                        min_impurity_decrease=0.0,\n",
       "                                                        min_impurity_split=None,\n",
       "                                                        min_samples_leaf=1,\n",
       "                                                        min_samples_split=2,\n",
       "                                                        min_weight_fraction_leaf=0.0,\n",
       "                                                        presort='deprecated',\n",
       "                                                        random_state=None,\n",
       "                                                        splitter='best'),\n",
       "                  bootstrap=True, bootstrap_features=False, max_features=1.0,\n",
       "                  max_samples=100, n_estimators=500, n_jobs=-1, oob_score=False,\n",
       "                  random_state=None, verbose=0, warm_start=False)"
      ]
     },
     "execution_count": 223,
     "metadata": {},
     "output_type": "execute_result"
    }
   ],
   "source": [
    "bag_clf.fit(X_train,y_encoded)\n"
   ]
  },
  {
   "cell_type": "code",
   "execution_count": 224,
   "metadata": {},
   "outputs": [],
   "source": [
    "y_train_pred=bag_clf.predict(X_train)"
   ]
  },
  {
   "cell_type": "code",
   "execution_count": 225,
   "metadata": {},
   "outputs": [],
   "source": [
    "y_pred = bag_clf.predict(X_test)"
   ]
  },
  {
   "cell_type": "code",
   "execution_count": 226,
   "metadata": {},
   "outputs": [
    {
     "data": {
      "text/plain": [
       "Text(0, 0.5, 'Importance')"
      ]
     },
     "execution_count": 226,
     "metadata": {},
     "output_type": "execute_result"
    },
    {
     "data": {
      "image/png": "[encoded data removed]",
      "text/plain": [
       "<Figure size 720x432 with 1 Axes>"
      ]
     },
     "metadata": {},
     "output_type": "display_data"
    }
   ],
   "source": [
    "%matplotlib inline\n",
    "import matplotlib.pyplot as plt\n",
    "import seaborn as sns\n",
    "import operator\n",
    "\n",
    "sns.set_style(\"darkgrid\")\n",
    "plt.figure(figsize=(10, 6))\n",
    "labels, importances = zip(*sorted(zip(X_train.columns, bag_clf.feature_importances_),\n",
    "                                  reverse=True,\n",
    "                                  key=operator.itemgetter(1)))\n",
    "plt.xticks(range(len(labels)), labels)\n",
    "_, labels = plt.xticks()\n",
    "plt.setp(labels, rotation=90)\n",
    "plt.bar(range(len(importances)), importances)\n",
    "plt.ylabel('Importance')"
   ]
  },
  {
   "cell_type": "code",
   "execution_count": 227,
   "metadata": {},
   "outputs": [
    {
     "name": "stdout",
     "output_type": "stream",
     "text": [
      "              precision    recall  f1-score   support\n",
      "\n",
      "       comp1       0.00      0.00      0.00        66\n",
      "       comp2       0.00      0.00      0.00       112\n",
      "       comp3       0.00      0.00      0.00        52\n",
      "       comp4       0.00      0.00      0.00        73\n",
      "        none       1.00      1.00      1.00    122316\n",
      "\n",
      "    accuracy                           1.00    122619\n",
      "   macro avg       0.20      0.20      0.20    122619\n",
      "weighted avg       1.00      1.00      1.00    122619\n",
      "\n"
     ]
    },
    {
     "name": "stderr",
     "output_type": "stream",
     "text": [
      "/Users/ravissa/opt/anaconda3/lib/python3.7/site-packages/sklearn/metrics/_classification.py:1272: UndefinedMetricWarning: Precision and F-score are ill-defined and being set to 0.0 in labels with no predicted samples. Use `zero_division` parameter to control this behavior.\n",
      "  _warn_prf(average, modifier, msg_start, len(result))\n"
     ]
    }
   ],
   "source": [
    "from sklearn.metrics import classification_report\n",
    "print(classification_report(y_test_encoded, y_pred, target_names=encoder.classes_))"
   ]
  },
  {
   "cell_type": "markdown",
   "metadata": {},
   "source": [
    "### End of the block for Bagging Classifier"
   ]
  },
  {
   "cell_type": "markdown",
   "metadata": {},
   "source": [
    "<a id='dtclassifier'></a>"
   ]
  },
  {
   "cell_type": "markdown",
   "metadata": {},
   "source": [
    "### Decision Tree"
   ]
  },
  {
   "cell_type": "code",
   "execution_count": 228,
   "metadata": {},
   "outputs": [
    {
     "data": {
      "text/plain": [
       "DecisionTreeClassifier(ccp_alpha=0.0, class_weight=None, criterion='gini',\n",
       "                       max_depth=None, max_features=None, max_leaf_nodes=None,\n",
       "                       min_impurity_decrease=0.0, min_impurity_split=None,\n",
       "                       min_samples_leaf=1, min_samples_split=2,\n",
       "                       min_weight_fraction_leaf=0.0, presort='deprecated',\n",
       "                       random_state=12, splitter='best')"
      ]
     },
     "execution_count": 228,
     "metadata": {},
     "output_type": "execute_result"
    }
   ],
   "source": [
    "from sklearn.tree import DecisionTreeClassifier\n",
    "dst = DecisionTreeClassifier(random_state=12)\n",
    "dst.fit(X_train,y_encoded)"
   ]
  },
  {
   "cell_type": "code",
   "execution_count": 229,
   "metadata": {},
   "outputs": [],
   "source": [
    "y_train_pred=dst.predict(X_train)"
   ]
  },
  {
   "cell_type": "code",
   "execution_count": 230,
   "metadata": {},
   "outputs": [],
   "source": [
    "y_pred = dst.predict(X_test)"
   ]
  },
  {
   "cell_type": "code",
   "execution_count": 231,
   "metadata": {},
   "outputs": [
    {
     "data": {
      "text/plain": [
       "Text(0, 0.5, 'Importance')"
      ]
     },
     "execution_count": 231,
     "metadata": {},
     "output_type": "execute_result"
    },
    {
     "data": {
      "image/png": "[encoded data removed]",
      "text/plain": [
       "<Figure size 720x432 with 1 Axes>"
      ]
     },
     "metadata": {},
     "output_type": "display_data"
    }
   ],
   "source": [
    "%matplotlib inline\n",
    "import matplotlib.pyplot as plt\n",
    "import seaborn as sns\n",
    "import operator\n",
    "\n",
    "sns.set_style(\"darkgrid\")\n",
    "plt.figure(figsize=(10, 6))\n",
    "labels, importances = zip(*sorted(zip(X_train.columns, dst.feature_importances_),\n",
    "                                  reverse=True,\n",
    "                                  key=operator.itemgetter(1)))\n",
    "plt.xticks(range(len(labels)), labels)\n",
    "_, labels = plt.xticks()\n",
    "plt.setp(labels, rotation=90)\n",
    "plt.bar(range(len(importances)), importances)\n",
    "plt.ylabel('Importance')"
   ]
  },
  {
   "cell_type": "code",
   "execution_count": 232,
   "metadata": {},
   "outputs": [
    {
     "name": "stdout",
     "output_type": "stream",
     "text": [
      "              precision    recall  f1-score   support\n",
      "\n",
      "       comp1       0.87      0.94      0.91        66\n",
      "       comp2       0.90      0.99      0.94       112\n",
      "       comp3       0.95      0.79      0.86        52\n",
      "       comp4       0.98      0.85      0.91        73\n",
      "        none       1.00      1.00      1.00    122316\n",
      "\n",
      "    accuracy                           1.00    122619\n",
      "   macro avg       0.94      0.91      0.92    122619\n",
      "weighted avg       1.00      1.00      1.00    122619\n",
      "\n"
     ]
    }
   ],
   "source": [
    "from sklearn.metrics import classification_report\n",
    "print(classification_report(y_test_encoded, y_pred, target_names=encoder.classes_))"
   ]
  },
  {
   "cell_type": "markdown",
   "metadata": {},
   "source": [
    "<a id='sgd'></a>"
   ]
  },
  {
   "cell_type": "markdown",
   "metadata": {},
   "source": [
    "### SGD"
   ]
  },
  {
   "cell_type": "code",
   "execution_count": 235,
   "metadata": {},
   "outputs": [
    {
     "data": {
      "text/plain": [
       "SGDClassifier(alpha=0.0001, average=False, class_weight=None,\n",
       "              early_stopping=False, epsilon=0.1, eta0=0.0, fit_intercept=True,\n",
       "              l1_ratio=0.15, learning_rate='optimal', loss='hinge',\n",
       "              max_iter=1000, n_iter_no_change=5, n_jobs=None, penalty='l2',\n",
       "              power_t=0.5, random_state=12, shuffle=True, tol=0.001,\n",
       "              validation_fraction=0.1, verbose=0, warm_start=False)"
      ]
     },
     "execution_count": 235,
     "metadata": {},
     "output_type": "execute_result"
    }
   ],
   "source": [
    "from sklearn.linear_model import SGDClassifier\n",
    "svm = SGDClassifier(random_state=12)\n",
    "svm.fit(X_train,y_encoded)"
   ]
  },
  {
   "cell_type": "code",
   "execution_count": 236,
   "metadata": {},
   "outputs": [],
   "source": [
    "y_train_pred=svm.predict(X_train)"
   ]
  },
  {
   "cell_type": "code",
   "execution_count": 237,
   "metadata": {},
   "outputs": [],
   "source": [
    "y_pred = svm.predict(X_test)"
   ]
  },
  {
   "cell_type": "code",
   "execution_count": 239,
   "metadata": {},
   "outputs": [
    {
     "name": "stdout",
     "output_type": "stream",
     "text": [
      "              precision    recall  f1-score   support\n",
      "\n",
      "       comp1       0.34      0.33      0.34        66\n",
      "       comp2       0.44      0.54      0.48       112\n",
      "       comp3       0.50      0.02      0.04        52\n",
      "       comp4       1.00      0.03      0.05        73\n",
      "        none       1.00      1.00      1.00    122316\n",
      "\n",
      "    accuracy                           1.00    122619\n",
      "   macro avg       0.65      0.38      0.38    122619\n",
      "weighted avg       1.00      1.00      1.00    122619\n",
      "\n"
     ]
    }
   ],
   "source": [
    "from sklearn.metrics import classification_report\n",
    "print(classification_report(y_test_encoded, y_pred, target_names=encoder.classes_))"
   ]
  },
  {
   "cell_type": "markdown",
   "metadata": {},
   "source": [
    "<a id='lrclassifier'></a>"
   ]
  },
  {
   "cell_type": "markdown",
   "metadata": {},
   "source": [
    "### Logistic Regression"
   ]
  },
  {
   "cell_type": "code",
   "execution_count": 240,
   "metadata": {},
   "outputs": [
    {
     "name": "stderr",
     "output_type": "stream",
     "text": [
      "/Users/ravissa/opt/anaconda3/lib/python3.7/site-packages/sklearn/linear_model/_logistic.py:940: ConvergenceWarning: lbfgs failed to converge (status=1):\n",
      "STOP: TOTAL NO. of ITERATIONS REACHED LIMIT.\n",
      "\n",
      "Increase the number of iterations (max_iter) or scale the data as shown in:\n",
      "    https://scikit-learn.org/stable/modules/preprocessing.html\n",
      "Please also refer to the documentation for alternative solver options:\n",
      "    https://scikit-learn.org/stable/modules/linear_model.html#logistic-regression\n",
      "  extra_warning_msg=_LOGISTIC_SOLVER_CONVERGENCE_MSG)\n"
     ]
    },
    {
     "data": {
      "text/plain": [
       "LogisticRegression(C=1.0, class_weight=None, dual=False, fit_intercept=True,\n",
       "                   intercept_scaling=1, l1_ratio=None, max_iter=100,\n",
       "                   multi_class='auto', n_jobs=None, penalty='l2',\n",
       "                   random_state=22, solver='lbfgs', tol=0.0001, verbose=0,\n",
       "                   warm_start=False)"
      ]
     },
     "execution_count": 240,
     "metadata": {},
     "output_type": "execute_result"
    }
   ],
   "source": [
    "from sklearn.linear_model import LogisticRegression\n",
    "lgr = LogisticRegression(random_state=22)\n",
    "lgr.fit(X_train,y_encoded)"
   ]
  },
  {
   "cell_type": "code",
   "execution_count": 241,
   "metadata": {},
   "outputs": [],
   "source": [
    "y_train_pred=lgr.predict(X_train)"
   ]
  },
  {
   "cell_type": "code",
   "execution_count": 242,
   "metadata": {},
   "outputs": [],
   "source": [
    "y_pred = lgr.predict(X_test)"
   ]
  },
  {
   "cell_type": "code",
   "execution_count": 243,
   "metadata": {},
   "outputs": [
    {
     "name": "stdout",
     "output_type": "stream",
     "text": [
      "              precision    recall  f1-score   support\n",
      "\n",
      "       comp1       0.31      0.30      0.31        66\n",
      "       comp2       0.32      0.37      0.34       112\n",
      "       comp3       0.24      0.17      0.20        52\n",
      "       comp4       0.50      0.12      0.20        73\n",
      "        none       1.00      1.00      1.00    122316\n",
      "\n",
      "    accuracy                           1.00    122619\n",
      "   macro avg       0.47      0.39      0.41    122619\n",
      "weighted avg       1.00      1.00      1.00    122619\n",
      "\n"
     ]
    }
   ],
   "source": [
    "from sklearn.metrics import classification_report\n",
    "print(classification_report(y_test_encoded, y_pred, target_names=encoder.classes_))"
   ]
  },
  {
   "cell_type": "markdown",
   "metadata": {},
   "source": [
    "### Classification "
   ]
  },
  {
   "cell_type": "markdown",
   "metadata": {},
   "source": [
    "[AdaBoost](#adaboost)"
   ]
  },
  {
   "cell_type": "markdown",
   "metadata": {},
   "source": [
    "[GradientBoostingClassifier](#gbclassifier)"
   ]
  },
  {
   "cell_type": "markdown",
   "metadata": {},
   "source": [
    "[RandomForestClassifier](#rfclassifier)"
   ]
  },
  {
   "cell_type": "markdown",
   "metadata": {},
   "source": [
    "[BaggingClassifier](#bgclassifier)"
   ]
  },
  {
   "cell_type": "markdown",
   "metadata": {},
   "source": [
    "[DecisionTree Classifier](#dtclassifier)"
   ]
  },
  {
   "cell_type": "markdown",
   "metadata": {},
   "source": [
    "[SGD](#sgd)"
   ]
  },
  {
   "cell_type": "markdown",
   "metadata": {},
   "source": [
    "[Logistic Regression](#lrclassifier)"
   ]
  },
  {
   "cell_type": "code",
   "execution_count": null,
   "metadata": {},
   "outputs": [],
   "source": []
  }
 ],
 "metadata": {
  "kernelspec": {
   "display_name": "Python 3",
   "language": "python",
   "name": "python3"
  },
  "language_info": {
   "codemirror_mode": {
    "name": "ipython",
    "version": 3
   },
   "file_extension": ".py",
   "mimetype": "text/x-python",
   "name": "python",
   "nbconvert_exporter": "python",
   "pygments_lexer": "ipython3",
   "version": "3.7.4"
  }
 },
 "nbformat": 4,
 "nbformat_minor": 2
}
