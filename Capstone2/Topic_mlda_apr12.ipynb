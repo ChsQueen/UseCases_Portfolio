{
 "cells": [
  {
   "cell_type": "code",
   "execution_count": 74,
   "metadata": {},
   "outputs": [],
   "source": [
    "import numpy as np\n",
    "import pandas as pd"
   ]
  },
  {
   "cell_type": "code",
   "execution_count": 75,
   "metadata": {},
   "outputs": [],
   "source": [
    "import nltk\n",
    "from nltk.corpus import stopwords\n",
    "from gensim.models import ldamodel\n",
    "import gensim.corpora"
   ]
  },
  {
   "cell_type": "code",
   "execution_count": 76,
   "metadata": {},
   "outputs": [],
   "source": [
    "data = pd.read_csv('video_data.csv')"
   ]
  },
  {
   "cell_type": "code",
   "execution_count": 77,
   "metadata": {},
   "outputs": [
    {
     "data": {
      "text/plain": [
       "(5585, 5)"
      ]
     },
     "execution_count": 77,
     "metadata": {},
     "output_type": "execute_result"
    }
   ],
   "source": [
    "data.shape"
   ]
  },
  {
   "cell_type": "code",
   "execution_count": 121,
   "metadata": {},
   "outputs": [
    {
     "data": {
      "text/plain": [
       "India News                  2103\n",
       "Entertainment News          1977\n",
       "Sports News                  587\n",
       "World News                   318\n",
       "R Bharat                     269\n",
       "Technology News              130\n",
       "Business News                 78\n",
       "Lifestyle                     77\n",
       "Initiatives                   37\n",
       "Karnataka Elections 2018       9\n",
       "Name: category_name, dtype: int64"
      ]
     },
     "execution_count": 121,
     "metadata": {},
     "output_type": "execute_result"
    }
   ],
   "source": [
    "data['category_name'].value_counts()"
   ]
  },
  {
   "cell_type": "code",
   "execution_count": 78,
   "metadata": {},
   "outputs": [
    {
     "data": {
      "text/html": [
       "<div>\n",
       "<style scoped>\n",
       "    .dataframe tbody tr th:only-of-type {\n",
       "        vertical-align: middle;\n",
       "    }\n",
       "\n",
       "    .dataframe tbody tr th {\n",
       "        vertical-align: top;\n",
       "    }\n",
       "\n",
       "    .dataframe thead th {\n",
       "        text-align: right;\n",
       "    }\n",
       "</style>\n",
       "<table border=\"1\" class=\"dataframe\">\n",
       "  <thead>\n",
       "    <tr style=\"text-align: right;\">\n",
       "      <th></th>\n",
       "      <th>video_id</th>\n",
       "      <th>category_name</th>\n",
       "      <th>short_description</th>\n",
       "      <th>story_text</th>\n",
       "      <th>title</th>\n",
       "    </tr>\n",
       "  </thead>\n",
       "  <tbody>\n",
       "    <tr>\n",
       "      <td>0</td>\n",
       "      <td>5653616771001</td>\n",
       "      <td>Entertainment News</td>\n",
       "      <td>The 34-year-old actor is not sure if he's goin...</td>\n",
       "      <td>Hack: \\tThe 34-year-old actor is not sure if h...</td>\n",
       "      <td>Adam Driver still 'undecided' on seeing 'Star ...</td>\n",
       "    </tr>\n",
       "    <tr>\n",
       "      <td>1</td>\n",
       "      <td>5631919940001</td>\n",
       "      <td>Entertainment News</td>\n",
       "      <td>The poster gives us a closer look at the actor...</td>\n",
       "      <td>The latest poster of 2.0 featuring Bollywood s...</td>\n",
       "      <td>BEWARE: Akshay Kumar's look from 2.0 is out, a...</td>\n",
       "    </tr>\n",
       "    <tr>\n",
       "      <td>2</td>\n",
       "      <td>5767901401001</td>\n",
       "      <td>India News</td>\n",
       "      <td>A massive outrage has erupted over the horrifi...</td>\n",
       "      <td>A massive outrage has erupted over the horrifi...</td>\n",
       "      <td>Kathua-Rape-Murder Case: Protesters demand CBI...</td>\n",
       "    </tr>\n",
       "    <tr>\n",
       "      <td>3</td>\n",
       "      <td>5741125480001</td>\n",
       "      <td>India News</td>\n",
       "      <td>According to forensic report, traces of alcoho...</td>\n",
       "      <td>The mystery surrounding Sridevi’s passing away...</td>\n",
       "      <td>Sridevi’s death: Here’s what Amar Singh claims...</td>\n",
       "    </tr>\n",
       "    <tr>\n",
       "      <td>4</td>\n",
       "      <td>5746648010001</td>\n",
       "      <td>Entertainment News</td>\n",
       "      <td>After her national award winning first film 'N...</td>\n",
       "      <td>After her national award winning first film 'N...</td>\n",
       "      <td>Churni's next film on social media affecting p...</td>\n",
       "    </tr>\n",
       "  </tbody>\n",
       "</table>\n",
       "</div>"
      ],
      "text/plain": [
       "        video_id       category_name  \\\n",
       "0  5653616771001  Entertainment News   \n",
       "1  5631919940001  Entertainment News   \n",
       "2  5767901401001          India News   \n",
       "3  5741125480001          India News   \n",
       "4  5746648010001  Entertainment News   \n",
       "\n",
       "                                   short_description  \\\n",
       "0  The 34-year-old actor is not sure if he's goin...   \n",
       "1  The poster gives us a closer look at the actor...   \n",
       "2  A massive outrage has erupted over the horrifi...   \n",
       "3  According to forensic report, traces of alcoho...   \n",
       "4  After her national award winning first film 'N...   \n",
       "\n",
       "                                          story_text  \\\n",
       "0  Hack: \\tThe 34-year-old actor is not sure if h...   \n",
       "1  The latest poster of 2.0 featuring Bollywood s...   \n",
       "2  A massive outrage has erupted over the horrifi...   \n",
       "3  The mystery surrounding Sridevi’s passing away...   \n",
       "4  After her national award winning first film 'N...   \n",
       "\n",
       "                                               title  \n",
       "0  Adam Driver still 'undecided' on seeing 'Star ...  \n",
       "1  BEWARE: Akshay Kumar's look from 2.0 is out, a...  \n",
       "2  Kathua-Rape-Murder Case: Protesters demand CBI...  \n",
       "3  Sridevi’s death: Here’s what Amar Singh claims...  \n",
       "4  Churni's next film on social media affecting p...  "
      ]
     },
     "execution_count": 78,
     "metadata": {},
     "output_type": "execute_result"
    }
   ],
   "source": [
    "data.head(5)"
   ]
  },
  {
   "cell_type": "code",
   "execution_count": 79,
   "metadata": {},
   "outputs": [],
   "source": [
    "import matplotlib.pyplot as plt\n",
    "import seaborn as sns"
   ]
  },
  {
   "cell_type": "code",
   "execution_count": 80,
   "metadata": {},
   "outputs": [
    {
     "data": {
      "image/png": "[encoded data removed]",
      "text/plain": [
       "<Figure size 432x288 with 1 Axes>"
      ]
     },
     "metadata": {
      "needs_background": "light"
     },
     "output_type": "display_data"
    }
   ],
   "source": [
    "data['length_text'] = data['story_text'].str.len()\n",
    "sns.distplot(data['length_text'], color=\"b\")\n",
    "plt.show()"
   ]
  },
  {
   "cell_type": "code",
   "execution_count": 81,
   "metadata": {},
   "outputs": [
    {
     "data": {
      "image/png": "[encoded data removed]",
      "text/plain": [
       "<Figure size 432x288 with 1 Axes>"
      ]
     },
     "metadata": {
      "needs_background": "light"
     },
     "output_type": "display_data"
    }
   ],
   "source": [
    "data['length_title'] = data['title'].str.len()\n",
    "sns.distplot(data['length_title'], color=\"b\")\n",
    "plt.show()"
   ]
  },
  {
   "cell_type": "code",
   "execution_count": 82,
   "metadata": {},
   "outputs": [],
   "source": [
    "titles = [x for x in data['title']]\n",
    "docs = [x for x in data['story_text']]"
   ]
  },
  {
   "cell_type": "code",
   "execution_count": 83,
   "metadata": {},
   "outputs": [
    {
     "name": "stderr",
     "output_type": "stream",
     "text": [
      "[nltk_data] Downloading package stopwords to\n",
      "[nltk_data]     /Users/ravissa/nltk_data...\n",
      "[nltk_data]   Package stopwords is already up-to-date!\n"
     ]
    },
    {
     "data": {
      "text/plain": [
       "True"
      ]
     },
     "execution_count": 83,
     "metadata": {},
     "output_type": "execute_result"
    }
   ],
   "source": [
    "nltk.download('stopwords')"
   ]
  },
  {
   "cell_type": "code",
   "execution_count": 84,
   "metadata": {},
   "outputs": [],
   "source": [
    "from nltk.corpus import stopwords\n",
    "stop_words = stopwords.words('english')\n",
    "stop_words.extend(['from', 'subject', 're', 'edu', 'use'])"
   ]
  },
  {
   "cell_type": "markdown",
   "metadata": {},
   "source": [
    "### Data Preprocessing"
   ]
  },
  {
   "cell_type": "code",
   "execution_count": 85,
   "metadata": {},
   "outputs": [],
   "source": [
    "# A function to prepare the text for topic modelling\n",
    "def words(text):\n",
    "    regex = re.compile('[' + re.escape(string.punctuation) + '0-9\\\\r\\\\t\\\\n]')\n",
    "    text = regex.sub(\" \", text.lower())\n",
    "    words = text.split(\" \")\n",
    "    words = [re.sub('\\S*@\\S*\\s?', '', sent) for sent in words]\n",
    "    words = [re.sub('\\s+', ' ', sent) for sent in words]\n",
    "    words = [re.sub(\"\\'\", \"\", sent) for sent in words]\n",
    "    words = [w for w in words if not len(w) < 2]\n",
    "    words = [w for w in words if w not in stop_words]\n",
    "    words = [lmtzr.lemmatize(w) for w in words]\n",
    "    \n",
    "    return words"
   ]
  },
  {
   "cell_type": "code",
   "execution_count": 86,
   "metadata": {},
   "outputs": [],
   "source": [
    "import re\n",
    "import string"
   ]
  },
  {
   "cell_type": "code",
   "execution_count": 87,
   "metadata": {},
   "outputs": [],
   "source": [
    "from nltk.stem.wordnet import WordNetLemmatizer\n",
    "lmtzr = WordNetLemmatizer()"
   ]
  },
  {
   "cell_type": "code",
   "execution_count": 88,
   "metadata": {},
   "outputs": [
    {
     "name": "stderr",
     "output_type": "stream",
     "text": [
      "[nltk_data] Downloading package wordnet to /Users/ravissa/nltk_data...\n",
      "[nltk_data]   Package wordnet is already up-to-date!\n"
     ]
    }
   ],
   "source": [
    "nltk.download('wordnet')\n",
    "docs = [words(x) for x in data['story_text']]"
   ]
  },
  {
   "cell_type": "code",
   "execution_count": 89,
   "metadata": {},
   "outputs": [],
   "source": [
    "from gensim.corpora import Dictionary"
   ]
  },
  {
   "cell_type": "code",
   "execution_count": 90,
   "metadata": {},
   "outputs": [
    {
     "name": "stdout",
     "output_type": "stream",
     "text": [
      "Number of unique words in initial documents: 78180\n",
      "Number of unique words after removing rare and common words: 8588\n"
     ]
    }
   ],
   "source": [
    "# Create a dictionary representation of the documents.\n",
    "dictionary = Dictionary(docs)\n",
    "print('Number of unique words in initial documents:', len(dictionary))\n",
    "\n",
    "# Filter out words that occur less than 10 documents, or more than 20% of the documents.\n",
    "dictionary.filter_extremes(no_below=10, no_above=0.2)\n",
    "print('Number of unique words after removing rare and common words:', len(dictionary))"
   ]
  },
  {
   "cell_type": "code",
   "execution_count": 91,
   "metadata": {},
   "outputs": [
    {
     "name": "stdout",
     "output_type": "stream",
     "text": [
      "Word 3 (\"always\") appears 1 time.\n",
      "Word 8 (\"back\") appears 1 time.\n",
      "Word 12 (\"come\") appears 1 time.\n",
      "Word 40 (\"hit\") appears 1 time.\n",
      "Word 43 (\"interview\") appears 1 time.\n",
      "Word 91 (\"tv\") appears 1 time.\n",
      "Word 151 (\"accused\") appears 1 time.\n",
      "Word 194 (\"congress\") appears 5 time.\n",
      "Word 197 (\"country\") appears 2 time.\n",
      "Word 235 (\"group\") appears 1 time.\n",
      "Word 303 (\"party\") appears 1 time.\n",
      "Word 309 (\"political\") appears 1 time.\n",
      "Word 381 (\"tuesday\") appears 1 time.\n",
      "Word 430 (\"exclusively\") appears 1 time.\n",
      "Word 437 (\"full\") appears 1 time.\n",
      "Word 465 (\"republic\") appears 1 time.\n",
      "Word 473 (\"speaking\") appears 1 time.\n",
      "Word 488 (\"added\") appears 1 time.\n",
      "Word 510 (\"earlier\") appears 1 time.\n",
      "Word 652 (\"pm\") appears 3 time.\n",
      "Word 696 (\"prime\") appears 1 time.\n",
      "Word 764 (\"gandhi\") appears 1 time.\n",
      "Word 784 (\"rahul\") appears 1 time.\n",
      "Word 923 (\"saying\") appears 1 time.\n",
      "Word 928 (\"top\") appears 1 time.\n",
      "Word 988 (\"shankar\") appears 1 time.\n",
      "Word 1123 (\"modi\") appears 4 time.\n",
      "Word 1340 (\" here\") appears 1 time.\n",
      "Word 1433 (\"narendra\") appears 2 time.\n",
      "Word 1807 (\"across\") appears 1 time.\n",
      "Word 2044 (\"prasad\") appears 1 time.\n",
      "Word 2084 (\"let\") appears 2 time.\n",
      "Word 2161 (\"union\") appears 2 time.\n",
      "Word 2170 (\"gujarat\") appears 1 time.\n",
      "Word 2548 (\"faith\") appears 1 time.\n",
      "Word 2836 (\"pain\") appears 1 time.\n",
      "Word 2883 (\"positivity\") appears 1 time.\n",
      "Word 3070 (\"saffron\") appears 1 time.\n",
      "Word 3118 (\"spreading\") appears 1 time.\n",
      "Word 3219 (\"threat\") appears 1 time.\n",
      "Word 3396 (\"gained\") appears 1 time.\n",
      "Word 3446 (\"terror\") appears 2 time.\n",
      "Word 3480 (\"considered\") appears 1 time.\n",
      "Word 3560 (\"mindset\") appears 1 time.\n",
      "Word 3575 (\"dangerous\") appears 1 time.\n",
      "Word 3791 (\"ravi\") appears 1 time.\n",
      "Word 3808 (\"trust\") appears 1 time.\n",
      "Word 3814 (\"le\") appears 1 time.\n",
      "Word 4095 (\"lashkar\") appears 1 time.\n",
      "Word 4103 (\"taiba\") appears 1 time.\n",
      "Word 4534 (\"quote\") appears 1 time.\n",
      "Word 4551 (\"dharmendra\") appears 1 time.\n",
      "Word 5665 (\"hear\") appears 1 time.\n",
      "Word 6388 (\"dust\") appears 1 time.\n",
      "Word 6389 (\"petroleum\") appears 1 time.\n",
      "Word 6390 (\"pradhan\") appears 2 time.\n"
     ]
    }
   ],
   "source": [
    "corpus = [dictionary.doc2bow(doc) for doc in docs]\n",
    "#print(len(corpus))\n",
    "#corpus[336]\n",
    "bow_doc_300 = corpus[300]\n",
    "\n",
    "for i in range(len(bow_doc_300)):\n",
    "    print(\"Word {} (\\\"{}\\\") appears {} time.\".format(bow_doc_300[i][0], \n",
    "                                                     dictionary[bow_doc_300[i][0]], \n",
    "                                                     bow_doc_300[i][1]))"
   ]
  },
  {
   "cell_type": "markdown",
   "metadata": {},
   "source": [
    "### Topic Modeling and topic distributions using LDA and gensim"
   ]
  },
  {
   "cell_type": "code",
   "execution_count": 92,
   "metadata": {},
   "outputs": [],
   "source": [
    "def get_lda_topics(model, num_topics):\n",
    "    word_dict = {};\n",
    "    for i in range(num_topics):\n",
    "        words = model.show_topic(i, topn = 10);\n",
    "        word_dict['Topic # ' + '{:02d}'.format(i+1)] = [i[0] for i in words];\n",
    "    return pd.DataFrame(word_dict);"
   ]
  },
  {
   "cell_type": "code",
   "execution_count": 93,
   "metadata": {},
   "outputs": [],
   "source": [
    "from gensim.models import ldamodel\n",
    "import gensim.corpora"
   ]
  },
  {
   "cell_type": "code",
   "execution_count": 94,
   "metadata": {},
   "outputs": [],
   "source": [
    "from gensim.models import LdaModel"
   ]
  },
  {
   "cell_type": "code",
   "execution_count": 95,
   "metadata": {},
   "outputs": [],
   "source": [
    "# Build LDA model\n",
    "lda_model = gensim.models.ldamodel.LdaModel(corpus=corpus,\n",
    "                                           id2word=dictionary,\n",
    "                                           num_topics=10, \n",
    "                                           random_state=100,\n",
    "                                           update_every=1,\n",
    "                                           chunksize=500,\n",
    "                                           passes=20,\n",
    "                                           alpha='auto',\n",
    "                                           per_word_topics=True)"
   ]
  },
  {
   "cell_type": "code",
   "execution_count": 96,
   "metadata": {},
   "outputs": [
    {
     "data": {
      "text/html": [
       "<div>\n",
       "<style scoped>\n",
       "    .dataframe tbody tr th:only-of-type {\n",
       "        vertical-align: middle;\n",
       "    }\n",
       "\n",
       "    .dataframe tbody tr th {\n",
       "        vertical-align: top;\n",
       "    }\n",
       "\n",
       "    .dataframe thead th {\n",
       "        text-align: right;\n",
       "    }\n",
       "</style>\n",
       "<table border=\"1\" class=\"dataframe\">\n",
       "  <thead>\n",
       "    <tr style=\"text-align: right;\">\n",
       "      <th></th>\n",
       "      <th>Topic # 01</th>\n",
       "      <th>Topic # 02</th>\n",
       "      <th>Topic # 03</th>\n",
       "      <th>Topic # 04</th>\n",
       "      <th>Topic # 05</th>\n",
       "      <th>Topic # 06</th>\n",
       "      <th>Topic # 07</th>\n",
       "      <th>Topic # 08</th>\n",
       "      <th>Topic # 09</th>\n",
       "      <th>Topic # 10</th>\n",
       "    </tr>\n",
       "  </thead>\n",
       "  <tbody>\n",
       "    <tr>\n",
       "      <td>0</td>\n",
       "      <td>post</td>\n",
       "      <td>के</td>\n",
       "      <td>pakistan</td>\n",
       "      <td>world</td>\n",
       "      <td>court</td>\n",
       "      <td>say</td>\n",
       "      <td>congress</td>\n",
       "      <td>khan</td>\n",
       "      <td>singh</td>\n",
       "      <td>team</td>\n",
       "    </tr>\n",
       "    <tr>\n",
       "      <td>1</td>\n",
       "      <td>shared</td>\n",
       "      <td>में</td>\n",
       "      <td>police</td>\n",
       "      <td>country</td>\n",
       "      <td>case</td>\n",
       "      <td>com</td>\n",
       "      <td>party</td>\n",
       "      <td>salman</td>\n",
       "      <td>show</td>\n",
       "      <td>r</td>\n",
       "    </tr>\n",
       "    <tr>\n",
       "      <td>2</td>\n",
       "      <td>picture</td>\n",
       "      <td>है</td>\n",
       "      <td>incident</td>\n",
       "      <td>u</td>\n",
       "      <td>r</td>\n",
       "      <td>story</td>\n",
       "      <td>bjp</td>\n",
       "      <td>kapoor</td>\n",
       "      <td>ranveer</td>\n",
       "      <td>player</td>\n",
       "    </tr>\n",
       "    <tr>\n",
       "      <td>3</td>\n",
       "      <td>khan</td>\n",
       "      <td>की</td>\n",
       "      <td>security</td>\n",
       "      <td>user</td>\n",
       "      <td>bank</td>\n",
       "      <td>role</td>\n",
       "      <td>election</td>\n",
       "      <td>sridevi</td>\n",
       "      <td>deepika</td>\n",
       "      <td>match</td>\n",
       "    </tr>\n",
       "    <tr>\n",
       "      <td>4</td>\n",
       "      <td>instagram</td>\n",
       "      <td>को</td>\n",
       "      <td>woman</td>\n",
       "      <td>make</td>\n",
       "      <td>crore</td>\n",
       "      <td>star</td>\n",
       "      <td>chief</td>\n",
       "      <td>family</td>\n",
       "      <td>kapil</td>\n",
       "      <td>cricket</td>\n",
       "    </tr>\n",
       "    <tr>\n",
       "      <td>5</td>\n",
       "      <td>seen</td>\n",
       "      <td>ने</td>\n",
       "      <td>army</td>\n",
       "      <td>million</td>\n",
       "      <td>accused</td>\n",
       "      <td>pic</td>\n",
       "      <td>leader</td>\n",
       "      <td>daughter</td>\n",
       "      <td>reportedly</td>\n",
       "      <td>game</td>\n",
       "    </tr>\n",
       "    <tr>\n",
       "      <td>6</td>\n",
       "      <td>pm</td>\n",
       "      <td>और</td>\n",
       "      <td>terrorist</td>\n",
       "      <td>added</td>\n",
       "      <td>cbi</td>\n",
       "      <td>movie</td>\n",
       "      <td>government</td>\n",
       "      <td>february</td>\n",
       "      <td>sharma</td>\n",
       "      <td>test</td>\n",
       "    </tr>\n",
       "    <tr>\n",
       "      <td>7</td>\n",
       "      <td>love</td>\n",
       "      <td>से</td>\n",
       "      <td>bill</td>\n",
       "      <td>work</td>\n",
       "      <td>government</td>\n",
       "      <td>get</td>\n",
       "      <td>state</td>\n",
       "      <td>bollywood</td>\n",
       "      <td>report</td>\n",
       "      <td>series</td>\n",
       "    </tr>\n",
       "    <tr>\n",
       "      <td>8</td>\n",
       "      <td>photo</td>\n",
       "      <td>पर</td>\n",
       "      <td>hospital</td>\n",
       "      <td>percent</td>\n",
       "      <td>republic</td>\n",
       "      <td>life</td>\n",
       "      <td>prime</td>\n",
       "      <td>bachchan</td>\n",
       "      <td>sanjay</td>\n",
       "      <td>ipl</td>\n",
       "    </tr>\n",
       "    <tr>\n",
       "      <td>9</td>\n",
       "      <td>star</td>\n",
       "      <td>कि</td>\n",
       "      <td>delhi</td>\n",
       "      <td>china</td>\n",
       "      <td>investigation</td>\n",
       "      <td>want</td>\n",
       "      <td>modi</td>\n",
       "      <td>dubai</td>\n",
       "      <td>bhansali</td>\n",
       "      <td>captain</td>\n",
       "    </tr>\n",
       "  </tbody>\n",
       "</table>\n",
       "</div>"
      ],
      "text/plain": [
       "  Topic # 01 Topic # 02 Topic # 03 Topic # 04     Topic # 05 Topic # 06  \\\n",
       "0       post         के   pakistan      world          court        say   \n",
       "1     shared        में     police    country           case        com   \n",
       "2    picture         है   incident          u              r      story   \n",
       "3       khan         की   security       user           bank       role   \n",
       "4  instagram         को      woman       make          crore       star   \n",
       "5       seen         ने       army    million        accused        pic   \n",
       "6         pm         और  terrorist      added            cbi      movie   \n",
       "7       love         से       bill       work     government        get   \n",
       "8      photo         पर   hospital    percent       republic       life   \n",
       "9       star         कि      delhi      china  investigation       want   \n",
       "\n",
       "   Topic # 07 Topic # 08  Topic # 09 Topic # 10  \n",
       "0    congress       khan       singh       team  \n",
       "1       party     salman        show          r  \n",
       "2         bjp     kapoor     ranveer     player  \n",
       "3    election    sridevi     deepika      match  \n",
       "4       chief     family       kapil    cricket  \n",
       "5      leader   daughter  reportedly       game  \n",
       "6  government   february      sharma       test  \n",
       "7       state  bollywood      report     series  \n",
       "8       prime   bachchan      sanjay        ipl  \n",
       "9        modi      dubai    bhansali    captain  "
      ]
     },
     "execution_count": 96,
     "metadata": {},
     "output_type": "execute_result"
    }
   ],
   "source": [
    "get_lda_topics(lda_model, 10)"
   ]
  },
  {
   "cell_type": "code",
   "execution_count": 97,
   "metadata": {},
   "outputs": [],
   "source": [
    "from gensim import models,corpora"
   ]
  },
  {
   "cell_type": "code",
   "execution_count": 98,
   "metadata": {},
   "outputs": [
    {
     "name": "stdout",
     "output_type": "stream",
     "text": [
      "(0, '0.032*\"post\" + 0.032*\"shared\" + 0.017*\"picture\" + 0.012*\"khan\" + 0.010*\"instagram\" + 0.010*\"seen\"')\n",
      "(1, '0.066*\"के\" + 0.049*\"में\" + 0.037*\"है\" + 0.037*\"की\" + 0.030*\"को\" + 0.027*\"ने\"')\n",
      "(2, '0.012*\"pakistan\" + 0.008*\"police\" + 0.006*\"incident\" + 0.005*\"security\" + 0.005*\"woman\" + 0.005*\"army\"')\n",
      "(3, '0.011*\"world\" + 0.009*\"country\" + 0.006*\"u\" + 0.005*\"user\" + 0.004*\"make\" + 0.004*\"million\"')\n",
      "(4, '0.023*\"court\" + 0.020*\"case\" + 0.010*\"r\" + 0.009*\"bank\" + 0.008*\"crore\" + 0.007*\"accused\"')\n",
      "(5, '0.007*\"say\" + 0.006*\"com\" + 0.006*\"story\" + 0.006*\"role\" + 0.006*\"star\" + 0.006*\"pic\"')\n",
      "(6, '0.015*\"congress\" + 0.014*\"party\" + 0.013*\"bjp\" + 0.012*\"election\" + 0.011*\"chief\" + 0.011*\"leader\"')\n",
      "(7, '0.024*\"khan\" + 0.021*\"salman\" + 0.016*\"kapoor\" + 0.016*\"sridevi\" + 0.010*\"family\" + 0.009*\"daughter\"')\n",
      "(8, '0.016*\"singh\" + 0.012*\"show\" + 0.011*\"ranveer\" + 0.010*\"deepika\" + 0.010*\"kapil\" + 0.009*\"reportedly\"')\n",
      "(9, '0.018*\"team\" + 0.017*\"r\" + 0.017*\"player\" + 0.016*\"match\" + 0.016*\"cricket\" + 0.012*\"game\"')\n"
     ]
    }
   ],
   "source": [
    "lda_model.save('model10.gensim')\n",
    "topics = lda_model.print_topics(num_words=6)\n",
    "for topic in topics:\n",
    "    print(topic)"
   ]
  },
  {
   "cell_type": "code",
   "execution_count": 100,
   "metadata": {},
   "outputs": [],
   "source": [
    "new_doc_distribution = np.array([tup[1] for tup in lda_model.get_document_topics(bow=bow_doc_300)])"
   ]
  },
  {
   "cell_type": "code",
   "execution_count": 101,
   "metadata": {},
   "outputs": [],
   "source": [
    "random_article_index = np.random.randint(len(data))"
   ]
  },
  {
   "cell_type": "code",
   "execution_count": 102,
   "metadata": {},
   "outputs": [
    {
     "data": {
      "image/png": "[encoded data removed]",
      "text/plain": [
       "<Figure size 864x432 with 1 Axes>"
      ]
     },
     "metadata": {
      "needs_background": "light"
     },
     "output_type": "display_data"
    }
   ],
   "source": [
    "# bar plot of topic distribution for this document\n",
    "fig, ax = plt.subplots(figsize=(12,6));\n",
    "# the histogram of the data\n",
    "patches = ax.bar(np.arange(len(new_doc_distribution)), new_doc_distribution)\n",
    "ax.set_xlabel('Topic ID', fontsize=15)\n",
    "ax.set_ylabel('Topic Contribution', fontsize=15)\n",
    "ax.set_title(\"Topic Distribution for Article \" + str(random_article_index), fontsize=20)\n",
    "ax.set_xticks(np.linspace(10,100,10))\n",
    "fig.tight_layout()\n",
    "plt.show()"
   ]
  },
  {
   "cell_type": "code",
   "execution_count": 103,
   "metadata": {},
   "outputs": [
    {
     "name": "stdout",
     "output_type": "stream",
     "text": [
      "2 [('pakistan', 0.012152566), ('police', 0.008140777), ('incident', 0.0056048715), ('security', 0.004915929), ('woman', 0.004893095), ('army', 0.0048186034), ('terrorist', 0.004605105), ('bill', 0.0045701833), ('hospital', 0.0042972364), ('delhi', 0.004243505)] \n",
      "\n",
      "0 [('post', 0.03206573), ('shared', 0.03167934), ('picture', 0.01719628), ('khan', 0.012367392), ('instagram', 0.01048505), ('seen', 0.009608591), ('pm', 0.0089259995), ('love', 0.008441057), ('photo', 0.0076524094), ('star', 0.0073499386)] \n",
      "\n",
      "3 [('world', 0.011427381), ('country', 0.00865095), ('u', 0.006252988), ('user', 0.0046973755), ('make', 0.0041278754), ('million', 0.0038492137), ('added', 0.003672456), ('work', 0.0035196403), ('percent', 0.003474973), ('china', 0.0034535497)] \n",
      "\n",
      "1 [('के', 0.066111825), ('में', 0.049109604), ('है', 0.037056055), ('की', 0.03670784), ('को', 0.029854259), ('ने', 0.026568623), ('और', 0.023883164), ('से', 0.02383454), ('पर', 0.021127706), ('कि', 0.017980713)] \n",
      "\n"
     ]
    }
   ],
   "source": [
    "for i in new_doc_distribution.argsort()[-5:][::-1]:\n",
    "    print(i, lda_model.show_topic(topicid=i, topn=10), \"\\n\")"
   ]
  },
  {
   "cell_type": "markdown",
   "metadata": {},
   "source": [
    "### COSINE similarity using tfidf vectorizer on the cleaned text"
   ]
  },
  {
   "cell_type": "code",
   "execution_count": 104,
   "metadata": {},
   "outputs": [],
   "source": [
    "from itertools import chain"
   ]
  },
  {
   "cell_type": "code",
   "execution_count": 105,
   "metadata": {},
   "outputs": [],
   "source": [
    "words_list=list(chain.from_iterable(docs))"
   ]
  },
  {
   "cell_type": "code",
   "execution_count": 106,
   "metadata": {},
   "outputs": [],
   "source": [
    "# Cosine similarity\n",
    "def cosine_sim(text1, text2):\n",
    "    tfidf_score = TfidfVectorizer().fit_transform([text1, text2])\n",
    "    return ((tfidf_score * tfidf_score.T).A)[0, 1]\n",
    "\n",
    "# Most similar article\n",
    "def closest_doc_name(sentence, docs):\n",
    "    cos = []\n",
    "    for i in range(len(docs)):\n",
    "        cos.append(cosine_sim(', '.join(sentence.split(' ')),', '.join(docs[i])))\n",
    "    return [titles[x] for x in np.argsort(cos)[-10:][::-1]]"
   ]
  },
  {
   "cell_type": "code",
   "execution_count": 107,
   "metadata": {},
   "outputs": [
    {
     "name": "stderr",
     "output_type": "stream",
     "text": [
      "/Users/ravissa/opt/anaconda3/lib/python3.7/site-packages/sklearn/feature_extraction/text.py:507: UserWarning: The parameter 'token_pattern' will not be used since 'tokenizer' is not None'\n",
      "  warnings.warn(\"The parameter 'token_pattern' will not be used\"\n"
     ]
    }
   ],
   "source": [
    "from sklearn.feature_extraction.text import TfidfVectorizer\n",
    "tfidf = TfidfVectorizer(tokenizer=words, stop_words=stop_words).fit(words_list)"
   ]
  },
  {
   "cell_type": "code",
   "execution_count": 108,
   "metadata": {},
   "outputs": [
    {
     "data": {
      "text/plain": [
       "['News Wrap: All the top headlines from across the world',\n",
       " 'Prime Minister directs withdrawal of fake news notice; onus put on Press Council of India',\n",
       " \"National Wrap: All That's Trending In The Country\",\n",
       " \"National Wrap: All That's Trending In India\",\n",
       " 'National Wrap: Latest Trending News In India On March 9',\n",
       " 'National Wrap: Latest Trending News In India On March 10',\n",
       " 'National Wrap: Latest Trending News In India On March 6',\n",
       " 'National Wrap: Latest Trending News In India On March 7',\n",
       " 'National Wrap: Latest Trending News In India On March 5',\n",
       " 'LIVE NOW: Republic World App - Light On Your Phone; Heavy On The News!']"
      ]
     },
     "execution_count": 108,
     "metadata": {},
     "output_type": "execute_result"
    }
   ],
   "source": [
    "closest_doc_name('news', docs)"
   ]
  },
  {
   "cell_type": "markdown",
   "metadata": {},
   "source": [
    "### Topic modeling using LSA"
   ]
  },
  {
   "cell_type": "code",
   "execution_count": 109,
   "metadata": {},
   "outputs": [],
   "source": [
    "documents = list(data['story_text'])"
   ]
  },
  {
   "cell_type": "code",
   "execution_count": 110,
   "metadata": {},
   "outputs": [],
   "source": [
    "news_df = pd.DataFrame({'document':documents})"
   ]
  },
  {
   "cell_type": "code",
   "execution_count": 111,
   "metadata": {},
   "outputs": [],
   "source": [
    "news_df = pd.DataFrame({'document':documents})\n",
    "\n",
    "# removing everything except alphabets`\n",
    "news_df['clean_doc'] = news_df['document'].str.replace(\"[^a-zA-Z#]\", \" \")\n",
    "\n",
    "# removing short words\n",
    "news_df['clean_doc'] = news_df['clean_doc'].apply(lambda x: ' '.join([w for w in x.split() if len(w)>3]))\n",
    "\n",
    "# make all text lowercase\n",
    "news_df['clean_doc'] = news_df['clean_doc'].apply(lambda x: x.lower())"
   ]
  },
  {
   "cell_type": "code",
   "execution_count": 112,
   "metadata": {},
   "outputs": [
    {
     "data": {
      "text/html": [
       "<div>\n",
       "<style scoped>\n",
       "    .dataframe tbody tr th:only-of-type {\n",
       "        vertical-align: middle;\n",
       "    }\n",
       "\n",
       "    .dataframe tbody tr th {\n",
       "        vertical-align: top;\n",
       "    }\n",
       "\n",
       "    .dataframe thead th {\n",
       "        text-align: right;\n",
       "    }\n",
       "</style>\n",
       "<table border=\"1\" class=\"dataframe\">\n",
       "  <thead>\n",
       "    <tr style=\"text-align: right;\">\n",
       "      <th></th>\n",
       "      <th>document</th>\n",
       "      <th>clean_doc</th>\n",
       "    </tr>\n",
       "  </thead>\n",
       "  <tbody>\n",
       "    <tr>\n",
       "      <td>0</td>\n",
       "      <td>Hack: \\tThe 34-year-old actor is not sure if h...</td>\n",
       "      <td>hack tthe year actor sure going watch upcoming...</td>\n",
       "    </tr>\n",
       "    <tr>\n",
       "      <td>1</td>\n",
       "      <td>The latest poster of 2.0 featuring Bollywood s...</td>\n",
       "      <td>latest poster featuring bollywood superstar ak...</td>\n",
       "    </tr>\n",
       "    <tr>\n",
       "      <td>2</td>\n",
       "      <td>A massive outrage has erupted over the horrifi...</td>\n",
       "      <td>massive outrage erupted over horrific rape mur...</td>\n",
       "    </tr>\n",
       "    <tr>\n",
       "      <td>3</td>\n",
       "      <td>The mystery surrounding Sridevi’s passing away...</td>\n",
       "      <td>mystery surrounding sridevi passing away deepe...</td>\n",
       "    </tr>\n",
       "    <tr>\n",
       "      <td>4</td>\n",
       "      <td>After her national award winning first film 'N...</td>\n",
       "      <td>after national award winning first film nirbas...</td>\n",
       "    </tr>\n",
       "    <tr>\n",
       "      <td>...</td>\n",
       "      <td>...</td>\n",
       "      <td>...</td>\n",
       "    </tr>\n",
       "    <tr>\n",
       "      <td>5580</td>\n",
       "      <td>कोलंबो, 19 मार्च (एएफपी) आस्ट्रेलिया के पूर्व ...</td>\n",
       "      <td></td>\n",
       "    </tr>\n",
       "    <tr>\n",
       "      <td>5581</td>\n",
       "      <td>The Supreme Court today dismissed a PIL seekin...</td>\n",
       "      <td>supreme court today dismissed seeking bihar ch...</td>\n",
       "    </tr>\n",
       "    <tr>\n",
       "      <td>5582</td>\n",
       "      <td>As Union Law Minister Ravi Shankar Prasad is s...</td>\n",
       "      <td>union minister ravi shankar prasad table musli...</td>\n",
       "    </tr>\n",
       "    <tr>\n",
       "      <td>5583</td>\n",
       "      <td>यूनिसेफ ने अपनी एक रिपोर्ट में खुलासा किया है ...</td>\n",
       "      <td></td>\n",
       "    </tr>\n",
       "    <tr>\n",
       "      <td>5584</td>\n",
       "      <td>The French president Emmanuel Macron, in a joi...</td>\n",
       "      <td>french president emmanuel macron joint stateme...</td>\n",
       "    </tr>\n",
       "  </tbody>\n",
       "</table>\n",
       "<p>5585 rows × 2 columns</p>\n",
       "</div>"
      ],
      "text/plain": [
       "                                               document  \\\n",
       "0     Hack: \\tThe 34-year-old actor is not sure if h...   \n",
       "1     The latest poster of 2.0 featuring Bollywood s...   \n",
       "2     A massive outrage has erupted over the horrifi...   \n",
       "3     The mystery surrounding Sridevi’s passing away...   \n",
       "4     After her national award winning first film 'N...   \n",
       "...                                                 ...   \n",
       "5580  कोलंबो, 19 मार्च (एएफपी) आस्ट्रेलिया के पूर्व ...   \n",
       "5581  The Supreme Court today dismissed a PIL seekin...   \n",
       "5582  As Union Law Minister Ravi Shankar Prasad is s...   \n",
       "5583  यूनिसेफ ने अपनी एक रिपोर्ट में खुलासा किया है ...   \n",
       "5584  The French president Emmanuel Macron, in a joi...   \n",
       "\n",
       "                                              clean_doc  \n",
       "0     hack tthe year actor sure going watch upcoming...  \n",
       "1     latest poster featuring bollywood superstar ak...  \n",
       "2     massive outrage erupted over horrific rape mur...  \n",
       "3     mystery surrounding sridevi passing away deepe...  \n",
       "4     after national award winning first film nirbas...  \n",
       "...                                                 ...  \n",
       "5580                                                     \n",
       "5581  supreme court today dismissed seeking bihar ch...  \n",
       "5582  union minister ravi shankar prasad table musli...  \n",
       "5583                                                     \n",
       "5584  french president emmanuel macron joint stateme...  \n",
       "\n",
       "[5585 rows x 2 columns]"
      ]
     },
     "execution_count": 112,
     "metadata": {},
     "output_type": "execute_result"
    }
   ],
   "source": [
    "news_df "
   ]
  },
  {
   "cell_type": "code",
   "execution_count": 113,
   "metadata": {},
   "outputs": [],
   "source": [
    "from nltk.corpus import stopwords\n",
    "stop_words = stopwords.words('english')\n",
    "\n",
    "# tokenization\n",
    "tokenized_doc = news_df['clean_doc'].apply(lambda x: x.split())\n",
    "\n",
    "# remove stop-words\n",
    "tokenized_doc = tokenized_doc.apply(lambda x: [item for item in x if item not in stop_words])\n",
    "\n",
    "# de-tokenization\n",
    "detokenized_doc = []\n",
    "for i in range(len(news_df)):\n",
    "    t = ' '.join(tokenized_doc[i])\n",
    "    detokenized_doc.append(t)\n",
    "\n",
    "news_df['clean_doc'] = detokenized_doc"
   ]
  },
  {
   "cell_type": "code",
   "execution_count": 114,
   "metadata": {},
   "outputs": [
    {
     "data": {
      "text/plain": [
       "(5585, 1000)"
      ]
     },
     "execution_count": 114,
     "metadata": {},
     "output_type": "execute_result"
    }
   ],
   "source": [
    "from sklearn.feature_extraction.text import TfidfVectorizer\n",
    "\n",
    "vectorizer = TfidfVectorizer(stop_words='english', \n",
    "max_features= 1000, # keep top 1000 terms \n",
    "max_df = 0.5, \n",
    "smooth_idf=True)\n",
    "\n",
    "X = vectorizer.fit_transform(news_df['clean_doc'])\n",
    "\n",
    "X.shape # check shape of the document-term matrix"
   ]
  },
  {
   "cell_type": "code",
   "execution_count": 124,
   "metadata": {},
   "outputs": [
    {
     "data": {
      "text/plain": [
       "5"
      ]
     },
     "execution_count": 124,
     "metadata": {},
     "output_type": "execute_result"
    }
   ],
   "source": [
    "from sklearn.decomposition import TruncatedSVD\n",
    "\n",
    "# SVD represent documents and terms in vectors \n",
    "svd_model = TruncatedSVD(n_components=5, algorithm='randomized', n_iter=100, random_state=122)\n",
    "\n",
    "svd_model.fit(X)\n",
    "\n",
    "len(svd_model.components_)"
   ]
  },
  {
   "cell_type": "code",
   "execution_count": 125,
   "metadata": {},
   "outputs": [
    {
     "name": "stdout",
     "output_type": "stream",
     "text": [
      "Topic 0: \n",
      "film\n",
      " \n",
      "india\n",
      " \n",
      "minister\n",
      " \n",
      "actor\n",
      " \n",
      "khan\n",
      " \n",
      "congress\n",
      " \n",
      "post\n",
      " \n",
      "Topic 1: \n",
      "congress\n",
      " \n",
      "minister\n",
      " \n",
      "modi\n",
      " \n",
      "government\n",
      " \n",
      "gandhi\n",
      " \n",
      "prime\n",
      " \n",
      "party\n",
      " \n",
      "Topic 2: \n",
      "pakistan\n",
      " \n",
      "india\n",
      " \n",
      "indian\n",
      " \n",
      "cricket\n",
      " \n",
      "match\n",
      " \n",
      "world\n",
      " \n",
      "team\n",
      " \n",
      "Topic 3: \n",
      "court\n",
      " \n",
      "case\n",
      " \n",
      "salman\n",
      " \n",
      "police\n",
      " \n",
      "khan\n",
      " \n",
      "republic\n",
      " \n",
      "accused\n",
      " \n",
      "Topic 4: \n",
      "sridevi\n",
      " \n",
      "kapoor\n",
      " \n",
      "dubai\n",
      " \n",
      "boney\n",
      " \n",
      "janhvi\n",
      " \n",
      "pakistan\n",
      " \n",
      "death\n",
      " \n"
     ]
    }
   ],
   "source": [
    "terms = vectorizer.get_feature_names()\n",
    "\n",
    "for i, comp in enumerate(svd_model.components_):\n",
    "    terms_comp = zip(terms, comp)\n",
    "    sorted_terms = sorted(terms_comp, key= lambda x:x[1], reverse=True)[:7]\n",
    "    print(\"Topic \"+str(i)+\": \")\n",
    "    for t in sorted_terms:\n",
    "        print(t[0])\n",
    "        print(\" \")"
   ]
  },
  {
   "cell_type": "markdown",
   "metadata": {},
   "source": [
    "### inspecting the above results we can conclude that Topic 0,1 is India news Topic 2 is sports news Topic 3,4 is entertainment news "
   ]
  },
  {
   "cell_type": "code",
   "execution_count": null,
   "metadata": {},
   "outputs": [],
   "source": []
  }
 ],
 "metadata": {
  "kernelspec": {
   "display_name": "Python 3",
   "language": "python",
   "name": "python3"
  },
  "language_info": {
   "codemirror_mode": {
    "name": "ipython",
    "version": 3
   },
   "file_extension": ".py",
   "mimetype": "text/x-python",
   "name": "python",
   "nbconvert_exporter": "python",
   "pygments_lexer": "ipython3",
   "version": "3.7.4"
  }
 },
 "nbformat": 4,
 "nbformat_minor": 4
}
